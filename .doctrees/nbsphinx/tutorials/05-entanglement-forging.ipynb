{
 "cells": [
  {
   "cell_type": "markdown",
   "metadata": {},
   "source": [
    "# Entanglement forging\n",
    "\n",
    "In this tutorial, we show how to simulate entanglement forging for a water molecule at equilibrium."
   ]
  },
  {
   "cell_type": "code",
   "execution_count": 1,
   "metadata": {
    "execution": {
     "iopub.execute_input": "2023-11-03T01:56:27.481166Z",
     "iopub.status.busy": "2023-11-03T01:56:27.480685Z",
     "iopub.status.idle": "2023-11-03T01:56:28.153167Z",
     "shell.execute_reply": "2023-11-03T01:56:28.152604Z"
    }
   },
   "outputs": [
    {
     "name": "stdout",
     "output_type": "stream",
     "text": [
      "converged SCF energy = -75.6787887956297\n"
     ]
    },
    {
     "name": "stdout",
     "output_type": "stream",
     "text": [
      "CASCI E = -75.7079508859773  E(CI) = -14.3336207346499  S^2 = 0.0000000\n"
     ]
    }
   ],
   "source": [
    "import pyscf\n",
    "import pyscf.mcscf\n",
    "import ffsim\n",
    "import math\n",
    "import numpy as np\n",
    "\n",
    "# Build a water molecule\n",
    "radius_1 = 0.958  # position for the first H atom\n",
    "radius_2 = 0.958  # position for the second H atom\n",
    "bond_angle_deg = 104.478  # bond angles.\n",
    "\n",
    "h1_x = radius_1\n",
    "h2_x = radius_2 * math.cos(math.pi / 180 * bond_angle_deg)\n",
    "h2_y = radius_2 * math.sin(math.pi / 180 * bond_angle_deg)\n",
    "\n",
    "mol = pyscf.gto.Mole()\n",
    "mol.build(\n",
    "    atom=[\n",
    "        [\"O\", (0, 0, 0)],\n",
    "        [\"H\", (h1_x, 0, 0)],\n",
    "        [\"H\", (h2_x, h2_y, 0)],\n",
    "    ],\n",
    "    basis=\"sto-6g\",\n",
    "    symmetry=\"c2v\",\n",
    ")\n",
    "hartree_fock = pyscf.scf.RHF(mol)\n",
    "hartree_fock.kernel()\n",
    "\n",
    "# Define active space\n",
    "active_space = [1, 2, 4, 5, 6]\n",
    "norb = len(active_space)\n",
    "n_electrons = int(sum(hartree_fock.mo_occ[active_space]))\n",
    "n_alpha = (n_electrons + hartree_fock.mol.spin) // 2\n",
    "n_beta = (n_electrons - hartree_fock.mol.spin) // 2\n",
    "nelec = (n_alpha, n_beta)\n",
    "\n",
    "# Compute FCI energy\n",
    "cas = pyscf.mcscf.CASCI(hartree_fock, ncas=len(active_space), nelecas=nelec)\n",
    "mo = cas.sort_mo(active_space, base=0)\n",
    "energy_fci = cas.kernel(mo)[0]\n",
    "\n",
    "# Get molecular data and molecular Hamiltonian (one- and two-body tensors)\n",
    "mol_data = ffsim.MolecularData.from_hartree_fock(\n",
    "    hartree_fock, active_space=active_space\n",
    ")\n",
    "mol_hamiltonian = mol_data.hamiltonian"
   ]
  },
  {
   "cell_type": "code",
   "execution_count": 2,
   "metadata": {
    "execution": {
     "iopub.execute_input": "2023-11-03T01:56:28.157200Z",
     "iopub.status.busy": "2023-11-03T01:56:28.156185Z",
     "iopub.status.idle": "2023-11-03T01:56:28.176024Z",
     "shell.execute_reply": "2023-11-03T01:56:28.175578Z"
    }
   },
   "outputs": [
    {
     "name": "stdout",
     "output_type": "stream",
     "text": [
      "Energy at initialialization: -75.68366174447618\n"
     ]
    }
   ],
   "source": [
    "import numpy as np\n",
    "\n",
    "n_reps = 1\n",
    "\n",
    "# Construct ansatz operator\n",
    "interaction_pairs = [(0, 1), (3, 4), (1, 4), (0, 2), (3, 4)]\n",
    "thetas = np.zeros(n_reps * len(interaction_pairs))\n",
    "operator = ffsim.HopGateAnsatzOperator(interaction_pairs, thetas=thetas)\n",
    "\n",
    "# Construct ansatz state\n",
    "reference_occupations_spatial = [(0, 1, 2), (1, 2, 3), (1, 2, 4)]\n",
    "reference_occupations = list(\n",
    "    zip(reference_occupations_spatial, reference_occupations_spatial)\n",
    ")\n",
    "hamiltonian = ffsim.linear_operator(mol_hamiltonian, norb=norb, nelec=nelec)\n",
    "ansatz_state = ffsim.multireference_state(\n",
    "    hamiltonian, operator, reference_occupations, norb=norb, nelec=nelec\n",
    ")\n",
    "\n",
    "# Compute the energy ⟨ψ|H|ψ⟩ of the ansatz state\n",
    "energy = np.real(np.vdot(ansatz_state, hamiltonian @ ansatz_state))\n",
    "print(f\"Energy at initialialization: {energy}\")"
   ]
  },
  {
   "cell_type": "code",
   "execution_count": 3,
   "metadata": {
    "execution": {
     "iopub.execute_input": "2023-11-03T01:56:28.178310Z",
     "iopub.status.busy": "2023-11-03T01:56:28.178031Z",
     "iopub.status.idle": "2023-11-03T01:56:29.750562Z",
     "shell.execute_reply": "2023-11-03T01:56:29.749998Z"
    }
   },
   "outputs": [
    {
     "name": "stdout",
     "output_type": "stream",
     "text": [
      "Number of parameters: 5\n",
      " message: Maximum number of function evaluations has been exceeded.\n",
      " success: False\n",
      "  status: 2\n",
      "     fun: -75.69448131030357\n",
      "       x: [ 1.354e+00  9.651e-02 -1.863e-03  1.095e+00 -2.132e-01]\n",
      "    nfev: 100\n",
      "   maxcv: 0.0\n"
     ]
    }
   ],
   "source": [
    "import scipy.optimize\n",
    "\n",
    "\n",
    "def fun(x):\n",
    "    # Initialize the ansatz operator from the parameter vector\n",
    "    operator = ffsim.HopGateAnsatzOperator(interaction_pairs, x)\n",
    "    # Compute ansatz state\n",
    "    ansatz_state = ffsim.multireference_state(\n",
    "        hamiltonian, operator, reference_occupations, norb=norb, nelec=nelec\n",
    "    )\n",
    "    # Compute the energy ⟨ψ|H|ψ⟩ of the ansatz state\n",
    "    return np.real(np.vdot(ansatz_state, hamiltonian @ ansatz_state))\n",
    "\n",
    "\n",
    "result = scipy.optimize.minimize(\n",
    "    fun, x0=operator.thetas, method=\"COBYLA\", options=dict(maxiter=100)\n",
    ")\n",
    "\n",
    "print(f\"Number of parameters: {len(result.x)}\")\n",
    "print(result)"
   ]
  }
 ],
 "metadata": {
  "kernelspec": {
   "display_name": "ffsim-a58AE6yt",
   "language": "python",
   "name": "python3"
  },
  "language_info": {
   "codemirror_mode": {
    "name": "ipython",
    "version": 3
   },
   "file_extension": ".py",
   "mimetype": "text/x-python",
   "name": "python",
   "nbconvert_exporter": "python",
   "pygments_lexer": "ipython3",
   "version": "3.11.6"
  }
 },
 "nbformat": 4,
 "nbformat_minor": 2
}
