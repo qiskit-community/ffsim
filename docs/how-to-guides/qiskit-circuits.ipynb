{
 "cells": [
  {
   "cell_type": "markdown",
   "metadata": {},
   "source": [
    "# How to build and transpile Qiskit quantum circuits\n",
    "\n",
    "In this guide, we show how to use ffsim's [qiskit](../api/ffsim.qiskit.rst) module to build and transpile fermionic quantum circuits.\n",
    "\n",
    "The following code cell imports modules and sets values that will be used in later code cells. Note that the number of qubits is twice the number of spatial orbitals."
   ]
  },
  {
   "cell_type": "code",
   "execution_count": 1,
   "metadata": {},
   "outputs": [],
   "source": [
    "import numpy as np\n",
    "from qiskit.circuit import QuantumCircuit, QuantumRegister\n",
    "\n",
    "import ffsim\n",
    "\n",
    "# Let's use 4 spatial orbitals with 2 alpha electrons and 2 beta electrons.\n",
    "norb = 4\n",
    "nelec = (2, 2)\n",
    "\n",
    "# Initialize qubits\n",
    "qubits = QuantumRegister(2 * norb, name=\"q\")\n",
    "\n",
    "# Initialize random number generator\n",
    "rng = np.random.default_rng(1234)"
   ]
  },
  {
   "cell_type": "markdown",
   "metadata": {},
   "source": [
    "## Circuit transpilation\n",
    "\n",
    "In this section, we show how to use transpiler passes included in ffsim to optimize quantum circuits built from fermionic gates. As a representative example circuit, we construct a circuit that prepares the Hartree-Fock state and then applies a [unitary cluster Jastrow (UCJ)](../api/ffsim.rst#ffsim.UCJOperator) ansatz operator to it."
   ]
  },
  {
   "cell_type": "code",
   "execution_count": 2,
   "metadata": {},
   "outputs": [
    {
     "data": {
      "image/png": "[encoded data removed]",
      "text/plain": [
       "<Figure size 376.831x491.633 with 1 Axes>"
      ]
     },
     "execution_count": 2,
     "metadata": {},
     "output_type": "execute_result"
    }
   ],
   "source": [
    "# Construct a random UCJ operator\n",
    "n_reps = 2\n",
    "t2 = ffsim.random.random_t2_amplitudes(norb, nocc=2, dtype=float)\n",
    "ucj_op = ffsim.UCJOperator.from_t_amplitudes(t2, n_reps=n_reps)\n",
    "\n",
    "# Consruct circuit\n",
    "circuit = QuantumCircuit(qubits)\n",
    "circuit.append(ffsim.qiskit.PrepareHartreeFockJW(norb, nelec), qubits)\n",
    "circuit.append(ffsim.qiskit.UCJOperatorJW(ucj_op), qubits)\n",
    "\n",
    "circuit.draw(\"mpl\", scale=0.7)"
   ]
  },
  {
   "cell_type": "markdown",
   "metadata": {},
   "source": [
    "We recommend taking the following steps to transpile your quantum circuit:\n",
    "\n",
    "- Generate a staged pass manager using the [generate_preset_pass_manager](https://docs.quantum.ibm.com/api/qiskit/transpiler_preset#generate_preset_pass_manager) function.\n",
    "- Set the `pre_init` stage of your staged pass manager using transpilation passes from ffsim's [pre_init_passes](../api/ffsim.qiskit.rst#ffsim.qiskit.pre_init_passes) function.\n",
    "- Run the transpiler pass on your circuit.\n",
    "\n",
    "The `pre_init_passes` function yields transpiler passes that decompose gates into orbital rotations and then merges the orbital rotations, resulting in fewer [XXPlusYYGates](https://docs.quantum.ibm.com/api/qiskit/qiskit.circuit.library.XXPlusYYGate#xxplusyygate) in the final transpiled circuit. See [Qubit gate decompositions of fermionic gates](../explanations/qiskit-gate-decompositions.ipynb#Unitary-cluster-Jastrow-(UCJ)-operator) for a more detailed explanation of how this works."
   ]
  },
  {
   "cell_type": "code",
   "execution_count": 3,
   "metadata": {},
   "outputs": [
    {
     "data": {
      "text/plain": [
       "OrderedDict([('cp', 56), ('xx_plus_yy', 32), ('p', 24), ('x', 4)])"
      ]
     },
     "execution_count": 3,
     "metadata": {},
     "output_type": "execute_result"
    }
   ],
   "source": [
    "from qiskit.providers.fake_provider import GenericBackendV2\n",
    "from qiskit.transpiler import PassManager\n",
    "from qiskit.transpiler.preset_passmanagers import generate_preset_pass_manager\n",
    "\n",
    "# Initialize quantum device backend\n",
    "backend = GenericBackendV2(2 * norb, basis_gates=[\"cp\", \"xx_plus_yy\", \"p\", \"x\"])\n",
    "\n",
    "# Create a pass manager for circuit transpilation\n",
    "pass_manager = generate_preset_pass_manager(optimization_level=3, backend=backend)\n",
    "\n",
    "# Set the pre-initialization stage of the pass manager with passes suggested by ffsim\n",
    "pass_manager.pre_init = PassManager(list(ffsim.qiskit.pre_init_passes()))\n",
    "\n",
    "# Transpile the circuit\n",
    "transpiled = pass_manager.run(circuit)\n",
    "\n",
    "transpiled.count_ops()"
   ]
  },
  {
   "cell_type": "markdown",
   "metadata": {},
   "source": [
    "## Overview of gates\n",
    "\n",
    "In this section, we give an overview of the quantum gates available in ffsim and provide usage examples.\n",
    "\n",
    "### State preparation gates\n",
    "\n",
    "The state preparation gates are meant to be applied to the zero state. Their behavior when applied to other states is not guaranteed.\n",
    "\n",
    "#### Prepare Hartree-Fock state"
   ]
  },
  {
   "cell_type": "code",
   "execution_count": 4,
   "metadata": {},
   "outputs": [
    {
     "data": {
      "text/plain": [
       "<qiskit.circuit.instructionset.InstructionSet at 0x7cfb009fe470>"
      ]
     },
     "execution_count": 4,
     "metadata": {},
     "output_type": "execute_result"
    }
   ],
   "source": [
    "circuit = QuantumCircuit(qubits)\n",
    "circuit.append(ffsim.qiskit.PrepareHartreeFockJW(norb, nelec), qubits)"
   ]
  },
  {
   "cell_type": "markdown",
   "metadata": {},
   "source": [
    "#### Prepare Slater determinant"
   ]
  },
  {
   "cell_type": "code",
   "execution_count": 5,
   "metadata": {},
   "outputs": [
    {
     "data": {
      "text/plain": [
       "<qiskit.circuit.instructionset.InstructionSet at 0x7cfb009feb30>"
      ]
     },
     "execution_count": 5,
     "metadata": {},
     "output_type": "execute_result"
    }
   ],
   "source": [
    "occupied_orbitals = ([0, 2], [0, 1])\n",
    "orbital_rotation = ffsim.random.random_unitary(norb, seed=rng)\n",
    "\n",
    "circuit = QuantumCircuit(qubits)\n",
    "circuit.append(\n",
    "    ffsim.qiskit.PrepareSlaterDeterminantJW(\n",
    "        norb, occupied_orbitals, orbital_rotation=orbital_rotation\n",
    "    ),\n",
    "    qubits,\n",
    ")"
   ]
  },
  {
   "cell_type": "markdown",
   "metadata": {},
   "source": [
    "### Unitary transformation gates\n",
    "\n",
    "These gates can be applied to any state.\n",
    "\n",
    "#### Orbital rotation"
   ]
  },
  {
   "cell_type": "code",
   "execution_count": 6,
   "metadata": {},
   "outputs": [
    {
     "data": {
      "text/plain": [
       "<qiskit.circuit.instructionset.InstructionSet at 0x7cfabf546c20>"
      ]
     },
     "execution_count": 6,
     "metadata": {},
     "output_type": "execute_result"
    }
   ],
   "source": [
    "orbital_rotation = ffsim.random.random_unitary(norb, seed=rng)\n",
    "\n",
    "circuit = QuantumCircuit(qubits)\n",
    "circuit.append(ffsim.qiskit.OrbitalRotationJW(norb, orbital_rotation), qubits)"
   ]
  },
  {
   "cell_type": "markdown",
   "metadata": {},
   "source": [
    "#### Diagonal Coulomb evolution"
   ]
  },
  {
   "cell_type": "code",
   "execution_count": 7,
   "metadata": {},
   "outputs": [
    {
     "data": {
      "text/plain": [
       "<qiskit.circuit.instructionset.InstructionSet at 0x7cfb009fe2f0>"
      ]
     },
     "execution_count": 7,
     "metadata": {},
     "output_type": "execute_result"
    }
   ],
   "source": [
    "diag_coulomb_mat = ffsim.random.random_real_symmetric_matrix(norb, seed=rng)\n",
    "\n",
    "circuit = QuantumCircuit(qubits)\n",
    "circuit.append(\n",
    "    ffsim.qiskit.DiagCoulombEvolutionJW(norb, diag_coulomb_mat, time=1.0), qubits\n",
    ")"
   ]
  },
  {
   "cell_type": "markdown",
   "metadata": {},
   "source": [
    "#### Unitary cluster Jastrow (UCJ) operator"
   ]
  },
  {
   "cell_type": "code",
   "execution_count": 8,
   "metadata": {},
   "outputs": [
    {
     "data": {
      "text/plain": [
       "<qiskit.circuit.instructionset.InstructionSet at 0x7cfa651fd810>"
      ]
     },
     "execution_count": 8,
     "metadata": {},
     "output_type": "execute_result"
    }
   ],
   "source": [
    "n_reps = 2\n",
    "t2 = ffsim.random.random_t2_amplitudes(norb, nocc=2, dtype=float)\n",
    "ucj_op = ffsim.UCJOperator.from_parameters(\n",
    "    ffsim.UCJOperator.from_t_amplitudes(t2, n_reps=n_reps).to_parameters(),\n",
    "    norb=norb,\n",
    "    n_reps=n_reps,\n",
    ")\n",
    "\n",
    "circuit = QuantumCircuit(qubits)\n",
    "circuit.append(ffsim.qiskit.UCJOperatorJW(ucj_op), qubits)"
   ]
  }
 ],
 "metadata": {
  "kernelspec": {
   "display_name": "ffsim-1cfkSnAR",
   "language": "python",
   "name": "python3"
  },
  "language_info": {
   "codemirror_mode": {
    "name": "ipython",
    "version": 3
   },
   "file_extension": ".py",
   "mimetype": "text/x-python",
   "name": "python",
   "nbconvert_exporter": "python",
   "pygments_lexer": "ipython3",
   "version": "3.11.8"
  }
 },
 "nbformat": 4,
 "nbformat_minor": 2
}
