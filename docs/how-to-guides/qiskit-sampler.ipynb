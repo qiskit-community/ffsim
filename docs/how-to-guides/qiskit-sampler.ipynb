{
 "cells": [
  {
   "cell_type": "markdown",
   "metadata": {},
   "source": [
    "# How to use the ffsim Sampler primitive\n",
    "\n",
    "In this guide, we show how to use [FfsimSampler](../api/ffsim.qiskit.rst#ffsim.qiskit.FfsimSampler), ffsim's implementation of the Qiskit [Sampler primitive](https://docs.quantum.ibm.com/api/qiskit/qiskit.primitives.BaseSamplerV2), to sample from quantum circuits built from fermionic gates.\n",
    "\n",
    "## Example of using FfsimSampler\n",
    "\n",
    "First, let's create an example circuit using gates from the [ffsim.qiskit](../api/ffsim.qiskit.rst) module.\n"
   ]
  },
  {
   "cell_type": "code",
   "execution_count": 1,
   "metadata": {},
   "outputs": [],
   "source": [
    "import numpy as np\n",
    "from qiskit.circuit import QuantumCircuit, QuantumRegister\n",
    "\n",
    "import ffsim\n",
    "\n",
    "# Let's use 8 spatial orbitals with 4 alpha electrons and 4 beta electrons.\n",
    "norb = 8\n",
    "nelec = (4, 4)\n",
    "n_alpha, n_beta = nelec\n",
    "\n",
    "# Generate some random data\n",
    "rng = np.random.default_rng(12345)\n",
    "orbital_rotation = ffsim.random.random_unitary(norb, seed=rng)\n",
    "diag_coulomb_mat = ffsim.random.random_real_symmetric_matrix(norb, seed=rng)\n",
    "\n",
    "# Create an example circuit\n",
    "qubits = QuantumRegister(2 * norb)\n",
    "circuit = QuantumCircuit(qubits)\n",
    "circuit.append(\n",
    "    ffsim.qiskit.PrepareSlaterDeterminantJW(\n",
    "        norb,\n",
    "        occupied_orbitals=[range(n_alpha), range(n_beta)],\n",
    "        orbital_rotation=orbital_rotation,\n",
    "    ),\n",
    "    qubits,\n",
    ")\n",
    "circuit.append(\n",
    "    ffsim.qiskit.DiagCoulombEvolutionJW(norb, diag_coulomb_mat, time=1.0), qubits\n",
    ")\n",
    "circuit.append(ffsim.qiskit.OrbitalRotationJW(norb, orbital_rotation.T.conj()), qubits)\n",
    "circuit.measure_all()"
   ]
  },
  {
   "cell_type": "markdown",
   "metadata": {},
   "source": [
    "Next, we initialize the ffsim sampler and use it to sample 10,000 shots from our circuit. The input to the sampler is a list of [primitive unified blocs](https://docs.quantum.ibm.com/api/qiskit/primitives#overview-of-samplerv2), or PUBs. In the cell output we display only the top 10 most commonly encountered bitstrings.\n"
   ]
  },
  {
   "cell_type": "code",
   "execution_count": 2,
   "metadata": {},
   "outputs": [
    {
     "data": {
      "text/plain": [
       "{'0000111100001111': 210,\n",
       " '0000111100101011': 133,\n",
       " '0010101100001111': 101,\n",
       " '0000111100011101': 70,\n",
       " '0010011100101101': 66,\n",
       " '0010110100101011': 65,\n",
       " '0010110100100111': 57,\n",
       " '0001110100001111': 56,\n",
       " '0000111100011011': 48,\n",
       " '0010101100101101': 47}"
      ]
     },
     "execution_count": 2,
     "metadata": {},
     "output_type": "execute_result"
    }
   ],
   "source": [
    "# Initialize ffsim sampler\n",
    "sampler = ffsim.qiskit.FfsimSampler(default_shots=10_000, seed=rng)\n",
    "\n",
    "# Form PUB, submit job, retrieve job result, and extract first (and only) PUB result\n",
    "pub = (circuit,)\n",
    "job = sampler.run([pub])\n",
    "result = job.result()\n",
    "pub_result = result[0]\n",
    "\n",
    "# Get counts\n",
    "counts = pub_result.data.meas.get_counts()\n",
    "\n",
    "# Display the 10 most commonly seen bitstrings and their counts\n",
    "{k: v for k, v in sorted(counts.items(), key=lambda x: x[1], reverse=True)[:10]}"
   ]
  },
  {
   "cell_type": "markdown",
   "metadata": {},
   "source": [
    "And that's it!\n",
    "\n",
    "## Criteria for circuits that FfsimSampler can sample\n",
    "\n",
    "FfsimSampler cannot sample from arbitrary Qiskit circuits. It can handle circuits that satisfy the following criteria:\n",
    "\n",
    "- The circuit contains only the following types of gates:\n",
    "  - Any gate from the [ffsim.qiskit](../api/ffsim.qiskit.rst) module.\n",
    "  - [Barrier](https://docs.quantum.ibm.com/api/qiskit/qiskit.circuit.library.Barrier#barrier).\n",
    "  - [Measure](https://docs.quantum.ibm.com/api/qiskit/qiskit.circuit.library.Measure#measure).\n",
    "- The first gate of the circuit is one of the following gates:\n",
    "  - [ffsim.qiskit.PrepareHartreeFockJW](../api/ffsim.qiskit.rst#ffsim.qiskit.PrepareHartreeFockJW).\n",
    "  - [ffsim.qiskit.PrepareHartreeFockSpinlessJW](../api/ffsim.qiskit.rst#ffsim.qiskit.PrepareHartreeFockSpinlessJW).\n",
    "  - [ffsim.qiskit.PrepareSlaterDeterminantJW](../api/ffsim.qiskit.rst#ffsim.qiskit.PrepareSlaterDeterminantJW).\n",
    "  - [ffsim.qiskit.PrepareSlaterDeterminantSpinlessJW](../api/ffsim.qiskit.rst#ffsim.qiskit.PrepareSlaterDeterminantSpinlessJW).\n",
    "- The state preparation gates listed in the previous item only appear as the first gate of the circuit.\n",
    "- All measurements are performed at the end of the circuit. In other words, the circuit does not contain any mid-circuit measurements.\n",
    "\n",
    "Due to the need to preserve fermionic statistics, some of the supported gates must be applied to consecutive qubits in ascending order.\n"
   ]
  },
  {
   "cell_type": "markdown",
   "metadata": {},
   "source": [
    "## Example of sampling from an LUCJ circuit for a nitrogen molecule\n",
    "\n",
    "The following code cell demonstrates a possible workflow for sampling from an LUCJ circuit for a nitrogen molecule in the 6-31g basis.\n"
   ]
  },
  {
   "cell_type": "code",
   "execution_count": 3,
   "metadata": {},
   "outputs": [
    {
     "name": "stdout",
     "output_type": "stream",
     "text": [
      "converged SCF energy = -108.835236570775\n",
      "norb = 16\n",
      "nelec = (5, 5)\n",
      "E(CCSD) = -109.0398256929734  E_corr = -0.2045891221988307\n"
     ]
    },
    {
     "data": {
      "text/plain": [
       "{'00000000000111110000000000011111': 9897,\n",
       " '00000000010110110000000000011111': 28,\n",
       " '00000000000111110000000001011011': 20,\n",
       " '00100000000110110000000000011111': 7,\n",
       " '10000000000011110000000000011111': 7,\n",
       " '00000000000111110000000000110111': 6,\n",
       " '00000000000111110010000000011011': 6,\n",
       " '00000000001101110000000000110111': 3,\n",
       " '01000000000011110000000000011111': 3,\n",
       " '00000000000111111000000000001111': 3}"
      ]
     },
     "execution_count": 3,
     "metadata": {},
     "output_type": "execute_result"
    }
   ],
   "source": [
    "import pyscf.data.elements\n",
    "from pyscf import cc, gto\n",
    "\n",
    "# Build N2 molecule\n",
    "mol = gto.Mole()\n",
    "mol.build(\n",
    "    atom=[[\"N\", (0, 0, 0)], [\"N\", (1.0, 0, 0)]],\n",
    "    basis=\"6-31g\",\n",
    "    symmetry=\"Dooh\",\n",
    ")\n",
    "\n",
    "# Define active space\n",
    "n_frozen = pyscf.data.elements.chemcore(mol)\n",
    "active_space = range(n_frozen, mol.nao_nr())\n",
    "\n",
    "# Get molecular data and Hamiltonian\n",
    "mol_data = ffsim.MolecularData.from_mole(mol, active_space=active_space)\n",
    "norb, nelec = mol_data.norb, mol_data.nelec\n",
    "mol_hamiltonian = mol_data.hamiltonian\n",
    "print(f\"norb = {norb}\")\n",
    "print(f\"nelec = {nelec}\")\n",
    "\n",
    "# Get CCSD t2 amplitudes for initializing the ansatz\n",
    "ccsd = cc.CCSD(\n",
    "    mol_data.scf,\n",
    "    frozen=[i for i in range(mol.nao_nr()) if i not in active_space],\n",
    ")\n",
    "_, _, t2 = ccsd.kernel()\n",
    "\n",
    "# Construct LUCJ operator using indices for a square lattice mapping\n",
    "n_reps = 1\n",
    "alpha_alpha_indices = [(p, p + 1) for p in range(norb - 1)]\n",
    "alpha_beta_indices = [(p, p) for p in range(norb)]\n",
    "ucj_op = ffsim.UCJOperator.from_parameters(\n",
    "    ffsim.UCJOperator.from_t_amplitudes(t2).to_parameters(),\n",
    "    norb=norb,\n",
    "    n_reps=n_reps,\n",
    "    alpha_alpha_indices=alpha_alpha_indices,\n",
    "    alpha_beta_indices=alpha_beta_indices,\n",
    ")\n",
    "\n",
    "# Construct circuit\n",
    "qubits = QuantumRegister(2 * norb)\n",
    "circuit = QuantumCircuit(qubits)\n",
    "circuit.append(ffsim.qiskit.PrepareHartreeFockJW(norb, nelec), qubits)\n",
    "circuit.append(ffsim.qiskit.UCJOperatorJW(ucj_op), qubits)\n",
    "circuit.measure_all()\n",
    "\n",
    "# Sample 10,000 shots from the circuit using FfsimSampler\n",
    "sampler = ffsim.qiskit.FfsimSampler(default_shots=10_000, seed=12345)\n",
    "pub = (circuit,)\n",
    "job = sampler.run([pub])\n",
    "result = job.result()\n",
    "pub_result = result[0]\n",
    "counts = pub_result.data.meas.get_counts()\n",
    "\n",
    "# Display the 10 most commonly seen bitstrings and their counts\n",
    "{k: v for k, v in sorted(counts.items(), key=lambda x: x[1], reverse=True)[:10]}"
   ]
  }
 ],
 "metadata": {
  "kernelspec": {
   "display_name": "ffsim",
   "language": "python",
   "name": "python3"
  },
  "language_info": {
   "codemirror_mode": {
    "name": "ipython",
    "version": 3
   },
   "file_extension": ".py",
   "mimetype": "text/x-python",
   "name": "python",
   "nbconvert_exporter": "python",
   "pygments_lexer": "ipython3",
   "version": "3.12.3"
  }
 },
 "nbformat": 4,
 "nbformat_minor": 2
}
