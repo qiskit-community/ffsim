{
 "cells": [
  {
   "cell_type": "markdown",
   "id": "bd5ac3333ca6e15b",
   "metadata": {},
   "source": [
    "# How to simulate the LUCJ ansatz using matrix product states"
   ]
  },
  {
   "cell_type": "markdown",
   "id": "bdf3ae858d82fccb",
   "metadata": {},
   "source": [
    "Following from the previous guide, we now show how to use ffsim to simulate the [LUCJ ansatz](../explanations/lucj.ipynb) using matrix product states. In this way, we can calculate an approximation to the LUCJ energy, which is itself an approximation to the ground state energy. This is particularly useful in complicated cases, such as for large molecules, where even the LUCJ energy cannot be computed exactly. \n",
    "\n",
    "As before, let's start by building the ethene molecule."
   ]
  },
  {
   "cell_type": "code",
   "execution_count": 1,
   "id": "7561238774dbb8b",
   "metadata": {
    "ExecuteTime": {
     "end_time": "2024-10-27T13:48:20.643194Z",
     "start_time": "2024-10-27T13:48:19.868560Z"
    }
   },
   "outputs": [
    {
     "name": "stdout",
     "output_type": "stream",
     "text": [
      "converged SCF energy = -77.8266321248745\n",
      "Parsing /tmp/tmpx4_311xu\n",
      "converged SCF energy = -77.8266321248744\n",
      "CASCI E = -77.8742165643862  E(CI) = -4.02122442107773  S^2 = 0.0000000\n",
      "norb = 4\n",
      "nelec = (2, 2)\n"
     ]
    },
    {
     "name": "stderr",
     "output_type": "stream",
     "text": [
      "Overwritten attributes  get_hcore get_ovlp  of <class 'pyscf.scf.hf.RHF'>\n",
      "/home/bart/PycharmProjects/ffsim/.ffsim_dev/lib/python3.12/site-packages/pyscf/gto/mole.py:1294: UserWarning: Function mol.dumps drops attribute energy_nuc because it is not JSON-serializable\n",
      "  warnings.warn(msg)\n",
      "/home/bart/PycharmProjects/ffsim/.ffsim_dev/lib/python3.12/site-packages/pyscf/gto/mole.py:1294: UserWarning: Function mol.dumps drops attribute intor_symmetric because it is not JSON-serializable\n",
      "  warnings.warn(msg)\n"
     ]
    }
   ],
   "source": [
    "import pyscf\n",
    "import pyscf.mcscf\n",
    "\n",
    "import ffsim\n",
    "\n",
    "# Build an ethene molecule\n",
    "bond_distance = 1.339\n",
    "a = 0.5 * bond_distance\n",
    "b = a + 0.5626\n",
    "c = 0.9289\n",
    "mol = pyscf.gto.Mole()\n",
    "mol.build(\n",
    "    atom=[\n",
    "        [\"C\", (0, 0, a)],\n",
    "        [\"C\", (0, 0, -a)],\n",
    "        [\"H\", (0, c, b)],\n",
    "        [\"H\", (0, -c, b)],\n",
    "        [\"H\", (0, c, -b)],\n",
    "        [\"H\", (0, -c, -b)],\n",
    "    ],\n",
    "    basis=\"sto-6g\",\n",
    "    symmetry=\"d2h\",\n",
    ")\n",
    "\n",
    "# Define active space\n",
    "active_space = range(mol.nelectron // 2 - 2, mol.nelectron // 2 + 2)\n",
    "\n",
    "# Get molecular data and molecular Hamiltonian (one- and two-body tensors)\n",
    "scf = pyscf.scf.RHF(mol).run()\n",
    "mol_data = ffsim.MolecularData.from_scf(scf, active_space=active_space)\n",
    "norb = mol_data.norb\n",
    "nelec = mol_data.nelec\n",
    "n_alpha, n_beta = nelec\n",
    "mol_hamiltonian = mol_data.hamiltonian\n",
    "\n",
    "# Compute FCI energy\n",
    "mol_data.run_fci()\n",
    "\n",
    "print(f\"norb = {norb}\")\n",
    "print(f\"nelec = {nelec}\")"
   ]
  },
  {
   "cell_type": "markdown",
   "id": "c0bd6bd083d51e00",
   "metadata": {},
   "source": [
    "Since our molecule has a closed-shell Hartree-Fock state, we'll use the spin-balanced variant of the UCJ ansatz, [UCJOpSpinBalanced](../api/ffsim.rst#ffsim.UCJOpSpinBalanced). We'll initialize the ansatz from t2 amplitudes obtained from a CCSD calculation and we'll restrict same-spin interactions to a line topology, and opposite-spin interactions to those within the same spatial orbital, which allows the ansatz to be simulated directly on a square lattice.\n",
    "\n",
    "The following code cell initializes the LUCJ ansatz operator."
   ]
  },
  {
   "cell_type": "code",
   "execution_count": 2,
   "id": "435b6d06934db617",
   "metadata": {
    "ExecuteTime": {
     "end_time": "2024-10-27T13:48:20.978075Z",
     "start_time": "2024-10-27T13:48:20.654739Z"
    }
   },
   "outputs": [
    {
     "name": "stdout",
     "output_type": "stream",
     "text": [
      "E(CCSD) = -77.87421536374032  E_corr = -0.04758323886586012\n"
     ]
    },
    {
     "name": "stderr",
     "output_type": "stream",
     "text": [
      "<class 'pyscf.cc.ccsd.CCSD'> does not have attributes  converged\n"
     ]
    }
   ],
   "source": [
    "from pyscf import cc\n",
    "\n",
    "# Get CCSD t2 amplitudes for initializing the ansatz\n",
    "ccsd = cc.CCSD(\n",
    "    scf,\n",
    "    frozen=[i for i in range(mol.nao_nr()) if i not in active_space],\n",
    ").run()\n",
    "\n",
    "# Construct LUCJ operator\n",
    "n_reps = 1\n",
    "pairs_aa = [(p, p + 1) for p in range(norb - 1)]\n",
    "pairs_ab = [(p, p) for p in range(norb)]\n",
    "interaction_pairs = (pairs_aa, pairs_ab)\n",
    "\n",
    "lucj_op = ffsim.UCJOpSpinBalanced.from_t_amplitudes(\n",
    "    ccsd.t2, n_reps=n_reps, interaction_pairs=interaction_pairs\n",
    ")"
   ]
  },
  {
   "cell_type": "markdown",
   "id": "e2a567f699df4868",
   "metadata": {},
   "source": [
    "## Convert the Hamiltonian to a matrix product operator (MPO)"
   ]
  },
  {
   "cell_type": "markdown",
   "id": "2824dff2829fccbf",
   "metadata": {},
   "source": [
    "Currently, our Hamiltonian is an instance of the `MolecularHamiltonian` class. Using the `from_molecular_hamiltonian` method from the `MolecularHamiltonianMPOModel` class, we can convert this to a TeNPy `MPOModel`, which respects the fermionic symmetries. We can then obtain the MPO using the `H_MPO` attribute and use this `MPO` object as outlined in the [TeNPy MPO documentation](https://tenpy.readthedocs.io/en/latest/reference/tenpy.networks.mpo.MPO.html#tenpy.networks.mpo.MPO). For example, the `MPO` class attribute `chi` tells us the MPO bond dimension, which is an important indicator of how complicated the Hamiltonian is in an MPO representation."
   ]
  },
  {
   "cell_type": "code",
   "execution_count": 3,
   "id": "7faac9a01ef5ba0a",
   "metadata": {
    "ExecuteTime": {
     "end_time": "2024-10-27T13:48:21.712055Z",
     "start_time": "2024-10-27T13:48:20.997730Z"
    }
   },
   "outputs": [
    {
     "name": "stdout",
     "output_type": "stream",
     "text": [
      "original Hamiltonian type =  <class 'ffsim.hamiltonians.molecular_hamiltonian.MolecularHamiltonian'>\n",
      "converted Hamiltonian type =  <class 'tenpy.networks.mpo.MPO'>\n",
      "maximum MPO bond dimension =  54\n"
     ]
    }
   ],
   "source": [
    "from ffsim.tenpy.hamiltonians.molecular_hamiltonian import MolecularHamiltonianMPOModel\n",
    "\n",
    "print(\"original Hamiltonian type = \", type(mol_hamiltonian))\n",
    "hamiltonian_mpo_model = MolecularHamiltonianMPOModel.from_molecular_hamiltonian(\n",
    "    mol_hamiltonian\n",
    ")\n",
    "hamiltonian_mpo = hamiltonian_mpo_model.H_MPO\n",
    "print(\"converted Hamiltonian type = \", type(hamiltonian_mpo))\n",
    "print(\"maximum MPO bond dimension = \", max(hamiltonian_mpo.chi))"
   ]
  },
  {
   "cell_type": "markdown",
   "id": "ad645d3446decfa8",
   "metadata": {},
   "source": [
    "## Construct the LUCJ circuit as a matrix product state (MPS)"
   ]
  },
  {
   "cell_type": "markdown",
   "id": "5f989277d7cbbca8",
   "metadata": {},
   "source": [
    "Our wavefunction ansatz operator, on the other hand, is an instance of the `UCJOpSpinBalanced` class. In a future guide, we will show in detail how we can use such an ansatz to build and transpile Qiskit quantum circuits. In this guide, we will use this ansatz operator to construct our wavefunction as a TeNPy MPS, which respects the fermionic symmetries. Behind the scenes, this executes the ansatz as a fermionic circuit using the TEBD algorithm. \n",
    "\n",
    "We can pass the `options` dictionary to the TEBD engine to control the accuracy of our MPS approximation, which is detailed in the [TeNPy TEBDEngine documentation](https://tenpy.readthedocs.io/en/latest/reference/tenpy.algorithms.tebd.TEBDEngine.html#tenpy.algorithms.tebd.TEBDEngine). The most relevant key for us in the `options` dictionary is `trunc_params`, which defines the truncation parameters for our quantum circuit. In particular, `chi_max` sets the maximum bond dimension, and `svd_min` sets the minimum Schmidt value cutoff. We also introduce the `norm_tol` parameter in the `apply_ucj_op_spin_balanced` function, which sets the maximum norm error above which the wavefunction is recanonicalized.\n",
    "\n",
    "In the example below, we set the maximum allowed bond dimension to 15, and after running the circuit, we can see that the maximum bond dimension reaches 15. This indicates that we have most likely truncated the bond dimension with our choice of `chi_max`."
   ]
  },
  {
   "cell_type": "code",
   "execution_count": 5,
   "id": "e9d8e1b09ee778c2",
   "metadata": {
    "ExecuteTime": {
     "end_time": "2024-10-27T13:48:22.585845Z",
     "start_time": "2024-10-27T13:48:21.730120Z"
    }
   },
   "outputs": [
    {
     "name": "stdout",
     "output_type": "stream",
     "text": [
      "wavefunction type =  <class 'tenpy.networks.mps.MPS'>\n",
      "MPS, L=4, bc='finite'.\n",
      "chi: [4, 15, 4]\n",
      "sites: SpinHalfFermionSite('N', 'Sz', 1.000000) SpinHalfFermionSite('N', 'Sz', 1.000000) SpinHalfFermionSite('N', 'Sz', 1.000000) SpinHalfFermionSite('N', 'Sz', 1.000000)\n",
      "forms: (0.0, 1.0) (0.0, 1.0) (0.0, 1.0) (0.0, 1.0)\n"
     ]
    }
   ],
   "source": [
    "import numpy as np\n",
    "from tenpy.algorithms.tebd import TEBDEngine\n",
    "\n",
    "import ffsim\n",
    "from ffsim.tenpy.gates.ucj import apply_ucj_op_spin_balanced\n",
    "from ffsim.tenpy.util import statevector_to_mps\n",
    "\n",
    "# Construct Hartree-Fock state\n",
    "psi_mps = statevector_to_mps(\n",
    "    ffsim.hartree_fock_state(norb, nelec), hamiltonian_mpo_model, norb, nelec\n",
    ")\n",
    "\n",
    "# Construct the TEBD engine\n",
    "options = {\"trunc_params\": {\"chi_max\": 15, \"svd_min\": 1e-6}}\n",
    "eng = TEBDEngine(psi_mps, None, options)\n",
    "\n",
    "# Apply the LUCJ operator\n",
    "apply_ucj_op_spin_balanced(eng, lucj_op)\n",
    "\n",
    "# Print the wavefunction\n",
    "psi_mps = eng.get_resume_data()[\"psi\"]\n",
    "print(\"wavefunction type = \", type(psi_mps))\n",
    "print(psi_mps)"
   ]
  },
  {
   "cell_type": "markdown",
   "id": "6c97e4db54214ecd",
   "metadata": {},
   "source": [
    "## Compare the energies"
   ]
  },
  {
   "cell_type": "markdown",
   "id": "9c8924340fc05c75",
   "metadata": {},
   "source": [
    "Now that we have converted our `MolecularHamilonian` to an MPO, and our LUCJ ansatz to an MPS, we can contract the tensors to compute an estimate of the ground-state energy. In order of increasing accuracy, we can compare the LUCJ (MPS) energy, the LUCJ energy, and the FCI energy."
   ]
  },
  {
   "cell_type": "code",
   "execution_count": 6,
   "id": "a6a7d85060f3d8a2",
   "metadata": {
    "ExecuteTime": {
     "end_time": "2024-10-27T13:48:22.711608Z",
     "start_time": "2024-10-27T13:48:22.629846Z"
    }
   },
   "outputs": [
    {
     "name": "stdout",
     "output_type": "stream",
     "text": [
      "LUCJ (MPS) energy =  -77.77102667787548\n",
      "LUCJ energy =  -77.84651018653344\n",
      "FCI energy =  -77.87421656438624\n"
     ]
    }
   ],
   "source": [
    "# Compute the LUCJ (MPS) energy\n",
    "lucj_mps_energy = hamiltonian_mpo.expectation_value_finite(psi_mps)\n",
    "print(\"LUCJ (MPS) energy = \", lucj_mps_energy)\n",
    "\n",
    "# Compute the LUCJ energy\n",
    "hf_state = ffsim.hartree_fock_state(norb, nelec)\n",
    "lucj_state = ffsim.apply_unitary(hf_state, lucj_op, norb, nelec)\n",
    "hamiltonian = ffsim.linear_operator(mol_hamiltonian, norb, nelec)\n",
    "lucj_energy = np.vdot(lucj_state, hamiltonian @ lucj_state).real\n",
    "print(\"LUCJ energy = \", lucj_energy)\n",
    "\n",
    "# Print the FCI energy\n",
    "fci_energy = mol_data.fci_energy\n",
    "print(\"FCI energy = \", fci_energy)"
   ]
  },
  {
   "cell_type": "markdown",
   "id": "76da0123-c376-484e-9f78-231d049fc051",
   "metadata": {
    "ExecuteTime": {
     "end_time": "2024-10-27T13:48:22.764638Z",
     "start_time": "2024-10-27T13:48:22.762324Z"
    }
   },
   "source": [
    "To illustrate the effects of the truncation parameters more clearly, we can plot the energies at different values of `svd_min` and `chi_max`."
   ]
  },
  {
   "cell_type": "code",
   "execution_count": 8,
   "id": "bf98d538-c182-4ede-917f-1eed31969c9a",
   "metadata": {},
   "outputs": [
    {
     "data": {
      "image/png": "[encoded data removed]",
      "text/plain": [
       "<Figure size 1000x400 with 2 Axes>"
      ]
     },
     "metadata": {},
     "output_type": "display_data"
    }
   ],
   "source": [
    "from copy import deepcopy\n",
    "\n",
    "import matplotlib.gridspec as gridspec\n",
    "import matplotlib.pyplot as plt\n",
    "from matplotlib.ticker import MaxNLocator\n",
    "\n",
    "svd_min_list = [1e-3, 1e-6]\n",
    "chi_max_list = np.arange(2, 21, 2)\n",
    "lucj_mps_energy = np.zeros((2, len(chi_max_list)))\n",
    "\n",
    "# Construct Hartree-Fock state\n",
    "initial_mps = statevector_to_mps(\n",
    "    ffsim.hartree_fock_state(norb, nelec), hamiltonian_mpo_model, norb, nelec\n",
    ")\n",
    "\n",
    "# Loop over cutoff and bond dimension\n",
    "for i, svd_min in enumerate(svd_min_list):\n",
    "    for j, chi_max in enumerate(chi_max_list):\n",
    "        final_mps = deepcopy(initial_mps)\n",
    "        options = {\"trunc_params\": {\"chi_max\": int(chi_max), \"svd_min\": svd_min}}\n",
    "        eng = TEBDEngine(final_mps, None, options)\n",
    "        apply_ucj_op_spin_balanced(eng, lucj_op)\n",
    "        lucj_mps_energy[i, j] = hamiltonian_mpo.expectation_value_finite(final_mps)\n",
    "\n",
    "fig = plt.figure(figsize=(10, 4))\n",
    "gs = gridspec.GridSpec(1, 2, wspace=0.3)\n",
    "ax0 = plt.subplot(gs[0])\n",
    "ax1 = plt.subplot(gs[1])\n",
    "\n",
    "for i in [0, 1]:\n",
    "    ax0.plot(\n",
    "        chi_max_list,\n",
    "        lucj_mps_energy[i, :],\n",
    "        \".-\",\n",
    "        label=f\"$\\\\lambda_\\\\text{{min}}=10^{{{np.log10(svd_min_list[i]):g}}}$\",\n",
    "    )\n",
    "\n",
    "ax0.set_xlabel(\"maximum MPS bond dimension\")\n",
    "ax0.set_ylabel(\"$E$\")\n",
    "ax0.xaxis.set_major_locator(MaxNLocator(integer=True))\n",
    "ax0.axhline(y=lucj_energy, color=\"k\", linestyle=\"dashed\", label=\"$E_\\\\text{LUCJ}$\")\n",
    "ax0.axhline(y=fci_energy, color=\"k\", linestyle=\"dotted\", label=\"$E_\\\\text{FCI}$\")\n",
    "ax0.legend(loc=\"best\")\n",
    "\n",
    "for i in [0, 1]:\n",
    "    ax1.plot(\n",
    "        chi_max_list,\n",
    "        np.abs(np.subtract(lucj_mps_energy[i, :], lucj_energy)),\n",
    "        \".-\",\n",
    "        label=f\"$\\\\lambda_\\\\text{{min}}=10^{{{np.log10(svd_min_list[i]):g}}}$\",\n",
    "    )\n",
    "\n",
    "ax1.set_xlabel(\"maximum MPS bond dimension\")\n",
    "ax1.set_ylabel(\"$|E-E_\\\\text{LUCJ}|$\")\n",
    "ax1.xaxis.set_major_locator(MaxNLocator(integer=True))\n",
    "ax1.set_yscale(\"log\")\n",
    "ax1.legend(loc=\"best\")\n",
    "\n",
    "plt.show()"
   ]
  },
  {
   "cell_type": "markdown",
   "id": "b2f8fbd2-b019-4d38-a4f1-62afcf238e3c",
   "metadata": {},
   "source": [
    "From the above plots, we can see that at an MPS bond dimension of 16 or above, the MPS representation of the LUCJ circuit is exact."
   ]
  }
 ],
 "metadata": {
  "kernelspec": {
   "display_name": "Python 3 (ipykernel)",
   "language": "python",
   "name": "python3"
  },
  "language_info": {
   "codemirror_mode": {
    "name": "ipython",
    "version": 3
   },
   "file_extension": ".py",
   "mimetype": "text/x-python",
   "name": "python",
   "nbconvert_exporter": "python",
   "pygments_lexer": "ipython3",
   "version": "3.12.8"
  }
 },
 "nbformat": 4,
 "nbformat_minor": 5
}
