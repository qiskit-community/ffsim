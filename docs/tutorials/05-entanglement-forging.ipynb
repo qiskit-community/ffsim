{
 "cells": [
  {
   "cell_type": "markdown",
   "metadata": {},
   "source": [
    "# Entanglement forging\n",
    "\n",
    "In this tutorial, we show how to simulate entanglement forging for a water molecule at equilibrium."
   ]
  },
  {
   "cell_type": "code",
   "execution_count": 1,
   "metadata": {},
   "outputs": [
    {
     "name": "stdout",
     "output_type": "stream",
     "text": [
      "converged SCF energy = -75.6787887956297\n",
      "CASCI E = -75.7288249991515  E(CI) = -23.6332495815006  S^2 = 0.0000000\n"
     ]
    }
   ],
   "source": [
    "import pyscf\n",
    "import pyscf.mcscf\n",
    "import ffsim\n",
    "import math\n",
    "\n",
    "# Build a water molecule\n",
    "radius_1 = 0.958  # position for the first H atom\n",
    "radius_2 = 0.958  # position for the second H atom\n",
    "bond_angle_deg = 104.478  # bond angles.\n",
    "\n",
    "h1_x = radius_1\n",
    "h2_x = radius_2 * math.cos(math.pi / 180 * bond_angle_deg)\n",
    "h2_y = radius_2 * math.sin(math.pi / 180 * bond_angle_deg)\n",
    "\n",
    "mol = pyscf.gto.Mole()\n",
    "mol.build(\n",
    "    atom=[\n",
    "        [\"O\", (0, 0, 0)],\n",
    "        [\"H\", (h1_x, 0, 0)],\n",
    "        [\"H\", (h2_x, h2_y, 0)],\n",
    "    ],\n",
    "    basis=\"sto-6g\",\n",
    "    symmetry=\"c2v\",\n",
    ")\n",
    "hartree_fock = pyscf.scf.RHF(mol)\n",
    "hartree_fock.kernel()\n",
    "\n",
    "# Define active space\n",
    "active_space = range(1, mol.nao_nr())\n",
    "\n",
    "# Get molecular data and molecular Hamiltonian (one- and two-body tensors)\n",
    "mol_data = ffsim.MolecularData.from_hartree_fock(\n",
    "    hartree_fock, active_space=active_space\n",
    ")\n",
    "norb = mol_data.norb\n",
    "nelec = mol_data.nelec\n",
    "mol_hamiltonian = mol_data.hamiltonian\n",
    "\n",
    "# Compute FCI energy\n",
    "cas = pyscf.mcscf.CASCI(hartree_fock, ncas=mol_data.norb, nelecas=mol_data.nelec)\n",
    "mo = cas.sort_mo(active_space, base=0)\n",
    "energy_fci = cas.kernel(mo)[0]"
   ]
  },
  {
   "cell_type": "code",
   "execution_count": 2,
   "metadata": {},
   "outputs": [
    {
     "name": "stdout",
     "output_type": "stream",
     "text": [
      "Energy at initialialization: -74.206562733216\n"
     ]
    }
   ],
   "source": [
    "import numpy as np\n",
    "\n",
    "\n",
    "# Construct ansatz operator\n",
    "def brickwork(norb: int, n_layers: int):\n",
    "    for i in range(n_layers):\n",
    "        for j in range(i % 2, norb - 1, 2):\n",
    "            yield (j, j + 1)\n",
    "\n",
    "\n",
    "n_layers = norb\n",
    "interaction_pairs = list(brickwork(norb, n_layers))\n",
    "rng = np.random.default_rng(1234)\n",
    "thetas = rng.uniform(-np.pi, np.pi, size=len(interaction_pairs))\n",
    "operator = ffsim.HopGateAnsatzOperator(interaction_pairs, thetas=thetas)\n",
    "\n",
    "# Construct ansatz state\n",
    "reference_occupations_spatial = [(0, 1, 2, 3), (1, 2, 3, 4), (0, 1, 2, 4)]\n",
    "reference_occupations = list(\n",
    "    zip(reference_occupations_spatial, reference_occupations_spatial)\n",
    ")\n",
    "ansatz_state = ffsim.multireference_state(\n",
    "    mol_hamiltonian, operator, reference_occupations, norb=norb, nelec=nelec\n",
    ")\n",
    "\n",
    "# Compute the energy ⟨ψ|H|ψ⟩ of the ansatz state\n",
    "hamiltonian = ffsim.linear_operator(mol_hamiltonian, norb=norb, nelec=nelec)\n",
    "energy = np.real(np.vdot(ansatz_state, hamiltonian @ ansatz_state))\n",
    "print(f\"Energy at initialialization: {energy}\")"
   ]
  },
  {
   "cell_type": "code",
   "execution_count": 3,
   "metadata": {},
   "outputs": [
    {
     "name": "stdout",
     "output_type": "stream",
     "text": [
      "Number of parameters: 15\n",
      "  message: STOP: TOTAL NO. of f AND g EVALUATIONS EXCEEDS LIMIT\n",
      "  success: False\n",
      "   status: 1\n",
      "      fun: -75.68085202358802\n",
      "        x: [ 2.996e+00 -7.549e-01 ...  2.650e+00  8.012e-01]\n",
      "      nit: 6\n",
      "      jac: [ 1.761e-03  9.109e-03 ... -1.192e-02  9.493e-04]\n",
      "     nfev: 112\n",
      "     njev: 7\n",
      " hess_inv: <15x15 LbfgsInvHessProduct with dtype=float64>\n"
     ]
    }
   ],
   "source": [
    "import scipy.optimize\n",
    "\n",
    "\n",
    "def fun(x):\n",
    "    # Initialize the ansatz operator from the parameter vector\n",
    "    operator = ffsim.HopGateAnsatzOperator(interaction_pairs, x)\n",
    "    # Compute ansatz state\n",
    "    ansatz_state = ffsim.multireference_state(\n",
    "        hamiltonian, operator, reference_occupations, norb=norb, nelec=nelec\n",
    "    )\n",
    "    # Compute the energy ⟨ψ|H|ψ⟩ of the ansatz state\n",
    "    return np.real(np.vdot(ansatz_state, hamiltonian @ ansatz_state))\n",
    "\n",
    "\n",
    "result = scipy.optimize.minimize(\n",
    "    fun, x0=operator.thetas, method=\"L-BFGS-B\", options=dict(maxfun=100)\n",
    ")\n",
    "\n",
    "print(f\"Number of parameters: {len(result.x)}\")\n",
    "print(result)"
   ]
  }
 ],
 "metadata": {
  "kernelspec": {
   "display_name": "ffsim-a58AE6yt",
   "language": "python",
   "name": "python3"
  },
  "language_info": {
   "codemirror_mode": {
    "name": "ipython",
    "version": 3
   },
   "file_extension": ".py",
   "mimetype": "text/x-python",
   "name": "python",
   "nbconvert_exporter": "python",
   "pygments_lexer": "ipython3",
   "version": "3.10.12"
  },
  "orig_nbformat": 4
 },
 "nbformat": 4,
 "nbformat_minor": 2
}
