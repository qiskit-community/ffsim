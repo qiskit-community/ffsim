{
 "cells": [
  {
   "cell_type": "markdown",
   "metadata": {},
   "source": [
    "# Introduction to ffsim\n",
    "\n",
    "ffsim is a software library for simulating fermionic quantum circuits that conserve particle number and the Z component of spin. By taking advantage of these symmetries, it can simulate these circuits much more efficiently than a generic quantum circuit simulator.\n",
    "\n",
    "The primary way of using ffsim is by calling functions that transform statevectors represented directly as NumPy arrays. As an example, the following code shows how to create a vector representing the Hartree-Fock state with 6 spatial orbitals, 3 alpha electrons and 2 beta electrons, and then apply an orbital rotation to it. It also shows an equivalent way to construct the resulting state as a Slater determinant."
   ]
  },
  {
   "cell_type": "code",
   "execution_count": 1,
   "metadata": {},
   "outputs": [],
   "source": [
    "import numpy as np\n",
    "import ffsim\n",
    "\n",
    "# Set the number of orbitals and their occupancies\n",
    "norb = 6\n",
    "nelec = (3, 2)\n",
    "\n",
    "# Create the Hartree-Fock state\n",
    "vec = ffsim.hartree_fock_state(norb, nelec)\n",
    "\n",
    "# Generate a random orbital rotation\n",
    "orbital_rotation = ffsim.random.random_unitary(norb, seed=1234)\n",
    "\n",
    "# Apply the orbital rotation to the statevector\n",
    "vec = ffsim.apply_orbital_rotation(vec, orbital_rotation, norb=norb, nelec=nelec)\n",
    "\n",
    "# Equivalent way to create the same state\n",
    "n_alpha, n_beta = nelec\n",
    "occupied_orbitals = (range(n_alpha), range(n_beta))\n",
    "slater_det = ffsim.slater_determinant(\n",
    "    norb, occupied_orbitals, orbital_rotation=orbital_rotation\n",
    ")\n",
    "\n",
    "np.testing.assert_allclose(slater_det, vec)"
   ]
  },
  {
   "cell_type": "markdown",
   "metadata": {},
   "source": [
    "Here, `vec` is a plain one-dimensional NumPy array (a vector). Its length is determined by the number of orbitals and their occupancies. Because ffsim only implements transformations which conserve particle number and the Z component of spin, the number of $\\alpha$-electrons and the number of $\\beta$-electrons are each fixed. For a system with $N$ spatial orbitals, $N_\\alpha$ electrons with spin $\\alpha$, and $N_\\beta$ electrons with spin $\\beta$, the statevector has length\n",
    "\n",
    "$$\n",
    "{N \\choose N_\\alpha} \\times {N \\choose N_\\beta}.\n",
    "$$\n",
    "\n",
    "In contrast, a generic quantum circuit simulator would represent the statevector in the space spanned by all possible bitstrings of length $2N$, resulting in a dimention of $2^{2N}$.\n",
    "\n",
    "For convenience, ffsim includes functions to calculate these dimensions."
   ]
  },
  {
   "cell_type": "code",
   "execution_count": 2,
   "metadata": {},
   "outputs": [
    {
     "name": "stdout",
     "output_type": "stream",
     "text": [
      "The dimension of the vector space is 300.\n",
      "On the other hand, 2 ** (2 * norb) = 4096.\n"
     ]
    }
   ],
   "source": [
    "from scipy.special import comb\n",
    "\n",
    "dim_a, dim_b = ffsim.dims(norb, nelec)\n",
    "dim = ffsim.dim(norb, nelec)\n",
    "print(f\"The dimension of the vector space is {dim}.\")\n",
    "print(f\"On the other hand, 2 ** (2 * norb) = {2 ** (2 * norb)}.\")\n",
    "\n",
    "assert dim_a == comb(norb, n_alpha, exact=True)\n",
    "assert dim_b == comb(norb, n_beta, exact=True)\n",
    "assert dim == dim_a * dim_b\n",
    "assert vec.shape == (dim,)"
   ]
  },
  {
   "cell_type": "markdown",
   "metadata": {},
   "source": [
    "This representation of the statevector is the same as that used in standard full configuration interaction (FCI) routines. It is often convenient to represent the statevector as a matrix whose rows are indexed by \"$\\alpha$-strings\" describing the occupancies of the $\\alpha$ orbitals, and columns indexed by \"$\\beta$-strings\" describing the occupancies of the $\\beta$ orbitals. To convert the vector into this representation, simply reshape it:"
   ]
  },
  {
   "cell_type": "code",
   "execution_count": 3,
   "metadata": {},
   "outputs": [],
   "source": [
    "mat = vec.reshape((dim_a, dim_b))"
   ]
  },
  {
   "cell_type": "markdown",
   "metadata": {},
   "source": [
    "The statevector representation depends on a choice of ordering for the $\\alpha$- and $\\beta$-strings. ffsim uses the same ordering as pySCF's FCI module, `pyscf.fci`. You can use the `indices_to_strings` function to convert a list of statevector indices to the corresponding bitstrings. The left half of a bitstring is the $\\alpha$-string, and the right half is the $\\beta$-string."
   ]
  },
  {
   "cell_type": "code",
   "execution_count": 4,
   "metadata": {},
   "outputs": [
    {
     "data": {
      "text/plain": [
       "['000111000011',\n",
       " '000111000101',\n",
       " '000111000110',\n",
       " '000111001001',\n",
       " '000111001010',\n",
       " '000111001100',\n",
       " '000111010001',\n",
       " '000111010010',\n",
       " '000111010100',\n",
       " '000111011000',\n",
       " '000111100001',\n",
       " '000111100010',\n",
       " '000111100100',\n",
       " '000111101000',\n",
       " '000111110000',\n",
       " '001011000011',\n",
       " '001011000101',\n",
       " '001011000110',\n",
       " '001011001001',\n",
       " '001011001010']"
      ]
     },
     "execution_count": 4,
     "metadata": {},
     "output_type": "execute_result"
    }
   ],
   "source": [
    "# Show the bitstrings for the first 20 indices\n",
    "strings = ffsim.indices_to_strings(range(20), norb, nelec)\n",
    "strings"
   ]
  }
 ],
 "metadata": {
  "kernelspec": {
   "display_name": "ffsim-1cfkSnAR",
   "language": "python",
   "name": "python3"
  },
  "language_info": {
   "codemirror_mode": {
    "name": "ipython",
    "version": 3
   },
   "file_extension": ".py",
   "mimetype": "text/x-python",
   "name": "python",
   "nbconvert_exporter": "python",
   "pygments_lexer": "ipython3",
   "version": "3.10.12"
  },
  "orig_nbformat": 4
 },
 "nbformat": 4,
 "nbformat_minor": 2
}
