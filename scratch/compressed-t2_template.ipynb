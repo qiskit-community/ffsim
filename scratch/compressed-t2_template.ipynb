{
 "cells": [
  {
   "cell_type": "code",
   "execution_count": 11,
   "id": "488719b4",
   "metadata": {},
   "outputs": [],
   "source": [
    "import pyscf\n",
    "import ffsim\n",
    "import numpy as np\n",
    "from opt_einsum import contract"
   ]
  },
  {
   "cell_type": "code",
   "execution_count": 12,
   "id": "06a22f79",
   "metadata": {},
   "outputs": [
    {
     "name": "stdout",
     "output_type": "stream",
     "text": [
      "converged SCF energy = -108.464957764796\n",
      "norb = 8\n",
      "nelec = (5, 5)\n",
      "E(CCSD) = -108.5933309085008  E_corr = -0.1283731437052354\n"
     ]
    }
   ],
   "source": [
    "# Build N2 molecule\n",
    "mol = pyscf.gto.Mole()\n",
    "mol.build(\n",
    "    atom=[[\"N\", (0, 0, 0)], [\"N\", (1.0, 0, 0)]],\n",
    "    basis=\"sto-6g\",\n",
    "    # basis=\"6-31g\",\n",
    "    symmetry=\"Dooh\",\n",
    ")\n",
    "\n",
    "# Define active space\n",
    "n_frozen = 2\n",
    "active_space = range(n_frozen, mol.nao_nr())\n",
    "\n",
    "# Get molecular data and Hamiltonian\n",
    "scf = pyscf.scf.RHF(mol).run()\n",
    "mol_data = ffsim.MolecularData.from_scf(scf, active_space=active_space)\n",
    "norb, nelec = mol_data.norb, mol_data.nelec\n",
    "mol_hamiltonian = mol_data.hamiltonian\n",
    "print(f\"norb = {norb}\")\n",
    "print(f\"nelec = {nelec}\")\n",
    "\n",
    "# Get CCSD t2 amplitudes for initializing the ansatz\n",
    "ccsd = pyscf.cc.CCSD(\n",
    "    scf, frozen=[i for i in range(mol.nao_nr()) if i not in active_space]\n",
    ").run()\n",
    "\n",
    "# Use 2 ansatz layers\n",
    "n_reps = 2\n",
    "# Use interactions implementable on a square lattice\n",
    "pairs_aa = [(p, p + 1) for p in range(norb - 1)]\n",
    "pairs_ab = [(p, p) for p in range(norb)]\n",
    "ucj_op = ffsim.UCJOpSpinBalanced.from_t_amplitudes(\n",
    "    ccsd.t2, t1=ccsd.t1, n_reps=n_reps, interaction_pairs=(pairs_aa, pairs_ab)\n",
    ")"
   ]
  },
  {
   "cell_type": "code",
   "execution_count": 13,
   "id": "7323d061",
   "metadata": {},
   "outputs": [
    {
     "data": {
      "text/plain": [
       "(5, 5, 3, 3)"
      ]
     },
     "execution_count": 13,
     "metadata": {},
     "output_type": "execute_result"
    }
   ],
   "source": [
    "nocc, _, nvrt, _ = ccsd.t2.shape\n",
    "ccsd.t2.shape"
   ]
  },
  {
   "cell_type": "code",
   "execution_count": 14,
   "id": "8d7761cf",
   "metadata": {},
   "outputs": [],
   "source": [
    "diag_coulomb_mats, orbital_rotations = ffsim.linalg.double_factorized_t2(ccsd.t2, tol=1e-8)"
   ]
  },
  {
   "cell_type": "code",
   "execution_count": 15,
   "id": "336ed443",
   "metadata": {},
   "outputs": [
    {
     "data": {
      "text/plain": [
       "(15, 2, 8, 8)"
      ]
     },
     "execution_count": 15,
     "metadata": {},
     "output_type": "execute_result"
    }
   ],
   "source": [
    "diag_coulomb_mats.shape"
   ]
  },
  {
   "cell_type": "code",
   "execution_count": 16,
   "id": "50da4618",
   "metadata": {},
   "outputs": [
    {
     "data": {
      "text/plain": [
       "(15, 2, 8, 8)"
      ]
     },
     "execution_count": 16,
     "metadata": {},
     "output_type": "execute_result"
    }
   ],
   "source": [
    "orbital_rotations.shape"
   ]
  },
  {
   "cell_type": "code",
   "execution_count": 17,
   "id": "df60ce92",
   "metadata": {},
   "outputs": [],
   "source": [
    "n_reps = 1"
   ]
  },
  {
   "cell_type": "code",
   "execution_count": 22,
   "id": "9bf392d7",
   "metadata": {},
   "outputs": [
    {
     "data": {
      "text/plain": [
       "(5, 5, 3, 3)"
      ]
     },
     "execution_count": 22,
     "metadata": {},
     "output_type": "execute_result"
    }
   ],
   "source": [
    "reconstructed = (\n",
    "        1j\n",
    "        * contract(\n",
    "            \"mkpq,mkap,mkip,mkbq,mkjq->ijab\",\n",
    "            diag_coulomb_mats[:n_reps],\n",
    "            orbital_rotations[:n_reps],\n",
    "            orbital_rotations[:n_reps].conj(),\n",
    "            orbital_rotations[:n_reps],\n",
    "            orbital_rotations[:n_reps].conj(),\n",
    "            # optimize=\"greedy\"\n",
    "        )[:nocc, :nocc, nocc:, nocc:]\n",
    "    )\n",
    "\n",
    "reconstructed.shape"
   ]
  },
  {
   "cell_type": "code",
   "execution_count": 19,
   "id": "82910575",
   "metadata": {},
   "outputs": [],
   "source": [
    "diff = reconstructed - ccsd.t2"
   ]
  },
  {
   "cell_type": "code",
   "execution_count": 20,
   "id": "32135358",
   "metadata": {},
   "outputs": [
    {
     "data": {
      "text/plain": [
       "np.float64(0.052682008717937295)"
      ]
     },
     "execution_count": 20,
     "metadata": {},
     "output_type": "execute_result"
    }
   ],
   "source": [
    "np.max(np.abs(diff))"
   ]
  },
  {
   "cell_type": "code",
   "execution_count": null,
   "id": "be9dab6f",
   "metadata": {},
   "outputs": [],
   "source": []
  },
  {
   "cell_type": "code",
   "execution_count": null,
   "id": "7895124d",
   "metadata": {},
   "outputs": [],
   "source": []
  }
 ],
 "metadata": {
  "kernelspec": {
   "display_name": ".venv",
   "language": "python",
   "name": "python3"
  },
  "language_info": {
   "codemirror_mode": {
    "name": "ipython",
    "version": 3
   },
   "file_extension": ".py",
   "mimetype": "text/x-python",
   "name": "python",
   "nbconvert_exporter": "python",
   "pygments_lexer": "ipython3",
   "version": "3.10.12"
  }
 },
 "nbformat": 4,
 "nbformat_minor": 5
}
