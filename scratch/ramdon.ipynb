{
 "cells": [
  {
   "cell_type": "code",
   "execution_count": null,
   "id": "d409460b",
   "metadata": {},
   "outputs": [],
   "source": [
    "from qiskit.circuit import QuantumCircuit, QuantumRegister\n",
    "from qiskit_addon_aqc_tensor import parametrize_circuit\n",
    "from ffsim.variational.util import interaction_pairs_spin_balanced\n",
    "\n",
    "import ffsim\n",
    "\n",
    "\n",
    "def ucj_spin_balanced_ansatz(\n",
    "    norb: int,\n",
    "    nelec: tuple[int, int],\n",
    "    n_reps: int,\n",
    "    interaction_pairs: tuple[\n",
    "        list[tuple[int, int]] | None, list[tuple[int, int]] | None\n",
    "    ],\n",
    ") -> QuantumCircuit:\n",
    "    ucj_op = ffsim.random.random_ucj_op_spin_balanced(\n",
    "        norb,\n",
    "        n_reps=n_reps,\n",
    "        interaction_pairs=interaction_pairs,\n",
    "    )\n",
    "    qubits = QuantumRegister(2 * norb)\n",
    "    circuit = QuantumCircuit(qubits)\n",
    "    circuit.append(ffsim.qiskit.PrepareHartreeFockJW(norb, nelec), qubits)\n",
    "    circuit.append(ffsim.qiskit.UCJOpSpinBalancedJW(ucj_op), qubits)\n",
    "    circuit = ffsim.qiskit.PRE_INIT.run(circuit).decompose()\n",
    "    return ansatz\n",
    "\n",
    "norb = 6\n",
    "nelec = (3, 2)\n",
    "n_reps = 1\n",
    "pairs_aa = [(0, 1), (1, 2), (2, 3), (3, 4), (4, 5)]\n",
    "pairs_ab = [(0, 0), (1, 1), (2, 2), (3, 3), (4, 4), (5, 5)]\n",
    "# interaction_pairs = interaction_pairs_spin_balanced(\"square\", norb)\n",
    "interaction_pairs = (pairs_aa, pairs_ab)\n",
    "ansatz = ucj_spin_balanced_ansatz(norb, nelec, n_reps=n_reps, interaction_pairs=interaction_pairs)\n",
    "ansatz.draw(\"mpl\", fold = -1)"
   ]
  }
 ],
 "metadata": {
  "language_info": {
   "name": "python"
  }
 },
 "nbformat": 4,
 "nbformat_minor": 5
}
