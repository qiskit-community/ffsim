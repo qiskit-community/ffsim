{
 "cells": [
  {
   "cell_type": "code",
   "execution_count": 89,
   "id": "488719b4",
   "metadata": {},
   "outputs": [],
   "source": [
    "import pyscf\n",
    "import ffsim\n",
    "import numpy as np\n",
    "from opt_einsum import contract"
   ]
  },
  {
   "cell_type": "code",
   "execution_count": 90,
   "id": "06a22f79",
   "metadata": {},
   "outputs": [
    {
     "name": "stdout",
     "output_type": "stream",
     "text": [
      "converged SCF energy = -108.464957764796\n",
      "norb = 8\n",
      "nelec = (5, 5)\n",
      "E(CCSD) = -108.5933309085007  E_corr = -0.1283731437052351\n"
     ]
    }
   ],
   "source": [
    "# Build N2 molecule\n",
    "mol = pyscf.gto.Mole()\n",
    "mol.build(\n",
    "    atom=[[\"N\", (0, 0, 0)], [\"N\", (1.0, 0, 0)]],\n",
    "    basis=\"sto-6g\",\n",
    "    # basis=\"6-31g\",\n",
    "    symmetry=\"Dooh\",\n",
    ")\n",
    "\n",
    "# Define active space\n",
    "n_frozen = 2\n",
    "active_space = range(n_frozen, mol.nao_nr())\n",
    "\n",
    "# Get molecular data and Hamiltonian\n",
    "scf = pyscf.scf.RHF(mol).run()\n",
    "mol_data = ffsim.MolecularData.from_scf(scf, active_space=active_space)\n",
    "norb, nelec = mol_data.norb, mol_data.nelec\n",
    "mol_hamiltonian = mol_data.hamiltonian\n",
    "print(f\"norb = {norb}\")\n",
    "print(f\"nelec = {nelec}\")\n",
    "\n",
    "# Get CCSD t2 amplitudes for initializing the ansatz\n",
    "ccsd = pyscf.cc.CCSD(\n",
    "    scf, frozen=[i for i in range(mol.nao_nr()) if i not in active_space]\n",
    ").run()\n",
    "\n",
    "# Use 2 ansatz layers\n",
    "n_reps = 2\n",
    "# Use interactions implementable on a square lattice\n",
    "pairs_aa = [(p, p + 1) for p in range(norb - 1)]\n",
    "pairs_ab = [(p, p) for p in range(norb)]\n",
    "ucj_op = ffsim.UCJOpSpinBalanced.from_t_amplitudes(\n",
    "    ccsd.t2, t1=ccsd.t1, n_reps=n_reps, interaction_pairs=(pairs_aa, pairs_ab)\n",
    ")"
   ]
  },
  {
   "cell_type": "code",
   "execution_count": 91,
   "id": "7323d061",
   "metadata": {},
   "outputs": [
    {
     "data": {
      "text/plain": [
       "(5, 5, 3, 3)"
      ]
     },
     "execution_count": 91,
     "metadata": {},
     "output_type": "execute_result"
    }
   ],
   "source": [
    "nocc, _, nvrt, _ = ccsd.t2.shape\n",
    "ccsd.t2.shape"
   ]
  },
  {
   "cell_type": "code",
   "execution_count": 92,
   "id": "8d7761cf",
   "metadata": {},
   "outputs": [],
   "source": [
    "diag_coulomb_mats, orbital_rotations = ffsim.linalg.double_factorized_t2(ccsd.t2, tol=1e-8, max_vecs = 3)"
   ]
  },
  {
   "cell_type": "code",
   "execution_count": 93,
   "id": "336ed443",
   "metadata": {},
   "outputs": [
    {
     "data": {
      "text/plain": [
       "(3, 2, 8, 8)"
      ]
     },
     "execution_count": 93,
     "metadata": {},
     "output_type": "execute_result"
    }
   ],
   "source": [
    "diag_coulomb_mats.shape\n"
   ]
  },
  {
   "cell_type": "code",
   "execution_count": 94,
   "id": "191e45d1",
   "metadata": {},
   "outputs": [
    {
     "data": {
      "text/plain": [
       "(6, 8, 8)"
      ]
     },
     "execution_count": 94,
     "metadata": {},
     "output_type": "execute_result"
    }
   ],
   "source": [
    "diag_coulomb_mats_reshape = diag_coulomb_mats.reshape(-1, norb, norb)\n",
    "diag_coulomb_mats_reshape.shape"
   ]
  },
  {
   "cell_type": "code",
   "execution_count": 95,
   "id": "50da4618",
   "metadata": {},
   "outputs": [
    {
     "data": {
      "text/plain": [
       "(3, 2, 8, 8)"
      ]
     },
     "execution_count": 95,
     "metadata": {},
     "output_type": "execute_result"
    }
   ],
   "source": [
    "orbital_rotations.shape"
   ]
  },
  {
   "cell_type": "code",
   "execution_count": 96,
   "id": "2252bb67",
   "metadata": {},
   "outputs": [
    {
     "data": {
      "text/plain": [
       "(6, 8, 8)"
      ]
     },
     "execution_count": 96,
     "metadata": {},
     "output_type": "execute_result"
    }
   ],
   "source": [
    "orbital_rotations_reshape = orbital_rotations.reshape(-1, norb, norb)\n",
    "orbital_rotations_reshape.shape"
   ]
  },
  {
   "cell_type": "code",
   "execution_count": 121,
   "id": "df60ce92",
   "metadata": {},
   "outputs": [],
   "source": [
    "n_reps = 6"
   ]
  },
  {
   "cell_type": "code",
   "execution_count": 122,
   "id": "9bf392d7",
   "metadata": {},
   "outputs": [],
   "source": [
    "reconstructed_ori = (\n",
    "        1j\n",
    "        * contract(\n",
    "            \"mkpq,mkap,mkip,mkbq,mkjq->ijab\",\n",
    "            diag_coulomb_mats[:n_reps],\n",
    "            orbital_rotations[:n_reps],\n",
    "            orbital_rotations[:n_reps].conj(),\n",
    "            orbital_rotations[:n_reps],\n",
    "            orbital_rotations[:n_reps].conj(),\n",
    "            # optimize=\"greedy\"\n",
    "        )[:nocc, :nocc, nocc:, nocc:]\n",
    "    )\n",
    "\n",
    "reconstructed = (\n",
    "        1j\n",
    "        * contract(\n",
    "            \"mpq,map,mip,mbq,mjq->ijab\",\n",
    "            diag_coulomb_mats_reshape[:n_reps * 2],\n",
    "            orbital_rotations_reshape[:n_reps * 2],\n",
    "            orbital_rotations_reshape[:n_reps * 2].conj(),\n",
    "            orbital_rotations_reshape[:n_reps * 2],\n",
    "            orbital_rotations_reshape[:n_reps * 2].conj(),\n",
    "            # optimize=\"greedy\"\n",
    "        )[:nocc, :nocc, nocc:, nocc:]\n",
    "    )"
   ]
  },
  {
   "cell_type": "code",
   "execution_count": 123,
   "id": "82910575",
   "metadata": {},
   "outputs": [],
   "source": [
    "diff = reconstructed - ccsd.t2\n",
    "diff_ori = reconstructed_ori - ccsd.t2"
   ]
  },
  {
   "cell_type": "code",
   "execution_count": 120,
   "id": "32135358",
   "metadata": {},
   "outputs": [
    {
     "data": {
      "text/plain": [
       "np.float64(0.003367372975817081)"
      ]
     },
     "execution_count": 120,
     "metadata": {},
     "output_type": "execute_result"
    }
   ],
   "source": [
    "0.5 * np.sum(np.abs(diff)**2)"
   ]
  },
  {
   "cell_type": "code",
   "execution_count": 124,
   "id": "936e9099",
   "metadata": {},
   "outputs": [
    {
     "data": {
      "text/plain": [
       "np.float64(0.003367372975817081)"
      ]
     },
     "execution_count": 124,
     "metadata": {},
     "output_type": "execute_result"
    }
   ],
   "source": [
    "0.5 * np.sum(np.abs(diff_ori)**2)"
   ]
  },
  {
   "cell_type": "code",
   "execution_count": 102,
   "id": "7895124d",
   "metadata": {},
   "outputs": [
    {
     "data": {
      "text/plain": [
       "array([[False,  True, False, False, False, False, False, False],\n",
       "       [ True, False,  True, False, False, False, False, False],\n",
       "       [False,  True, False,  True, False, False, False, False],\n",
       "       [False, False,  True, False,  True, False, False, False],\n",
       "       [False, False, False,  True, False,  True, False, False],\n",
       "       [False, False, False, False,  True, False,  True, False],\n",
       "       [False, False, False, False, False,  True, False,  True],\n",
       "       [False, False, False, False, False, False,  True, False]])"
      ]
     },
     "execution_count": 102,
     "metadata": {},
     "output_type": "execute_result"
    }
   ],
   "source": [
    "mask = np.zeros((norb, norb), dtype=bool)\n",
    "rows, cols = zip(*pairs_aa)\n",
    "mask[rows, cols] = True\n",
    "mask[cols, rows] = True\n",
    "mask"
   ]
  },
  {
   "cell_type": "code",
   "execution_count": 103,
   "id": "82db13fa",
   "metadata": {},
   "outputs": [],
   "source": [
    "def double_factorized_t2_compressed(\n",
    "    t2_amplitudes: np.ndarray, *, tol: float = 1e-8, max_vecs: int | None = None,\n",
    "    interaction_pairs: tuple[\n",
    "            list[tuple[int, int]] | None, list[tuple[int, int]] | None\n",
    "        ]\n",
    "        | None = None,\n",
    ") -> tuple[np.ndarray, np.ndarray]:\n",
    "    pass\n",
    "    \n"
   ]
  },
  {
   "cell_type": "code",
   "execution_count": 104,
   "id": "a5e1282a",
   "metadata": {},
   "outputs": [
    {
     "data": {
      "text/plain": [
       "array([[-2.11507845e-18+0.00000000e+00j, -1.08839984e-18+0.00000000e+00j,\n",
       "         5.27157390e-01+0.00000000e+00j, -1.68803619e-01+0.00000000e+00j,\n",
       "         6.44760042e-01+0.00000000e+00j,  5.27157390e-01+0.00000000e+00j,\n",
       "        -1.19593089e-17+0.00000000e+00j,  1.45042269e-17-0.00000000e+00j],\n",
       "       [-2.24550520e-18-1.14936393e-16j,  1.22612234e-16+1.59592851e-16j,\n",
       "        -1.77635684e-15-1.25728715e-32j, -9.67395058e-01+3.59338835e-18j,\n",
       "        -2.53272189e-01+3.49459960e-17j, -1.66533454e-15-3.27785016e-32j,\n",
       "         1.61268130e-16-9.56872020e-18j,  3.65673994e-17-7.88978835e-18j],\n",
       "       [ 1.61427485e-01+1.75154458e-03j,  6.88423208e-01-3.40376215e-03j,\n",
       "         0.00000000e+00+1.58741451e-33j, -1.94289029e-16+5.14733715e-17j,\n",
       "         0.00000000e+00+7.14907938e-19j,  5.55111512e-17-1.90489741e-33j,\n",
       "        -7.07007750e-01+2.58749102e-03j,  1.13487675e-02+2.13348871e-03j],\n",
       "       [ 6.88430006e-01-1.49205258e-03j, -1.61410947e-01+2.89949349e-03j,\n",
       "        -5.24900864e-17+1.82278203e-33j,  2.38336550e-17-3.12521973e-17j,\n",
       "         5.46820628e-17-2.34152363e-19j, -2.70338774e-17+4.12643406e-33j,\n",
       "         1.13352550e-02-2.20415324e-03j,  7.07010149e-01-1.81741154e-03j],\n",
       "       [ 2.77555756e-17-2.16840434e-19j, -1.11022302e-16+4.33680869e-19j,\n",
       "         4.71280263e-01+2.90796800e-47j,  1.88817742e-01-1.84889275e-32j,\n",
       "        -7.21205717e-01+1.45022525e-31j,  4.71280263e-01-6.84227766e-49j,\n",
       "         0.00000000e+00+0.00000000e+00j,  6.07153217e-17+0.00000000e+00j],\n",
       "       [-4.87848566e-01-4.85738485e-01j,  1.16185027e-01+1.12084524e-01j,\n",
       "         3.44021491e-17+3.44021491e-17j, -1.10992426e-16-2.77256993e-17j,\n",
       "        -3.46162508e-18+7.82187179e-21j, -5.05459291e-17-5.05459291e-17j,\n",
       "         9.57380741e-03+6.45666401e-03j,  5.01216775e-01+4.98646567e-01j],\n",
       "       [-1.12907940e-01-1.15384998e-01j, -4.89195542e-01-4.84381896e-01j,\n",
       "         1.53015654e-17+1.53015654e-17j,  8.62225584e-18-8.85222588e-17j,\n",
       "        -1.53981761e-18-1.54176054e-17j, -2.90536382e-17-2.90536382e-17j,\n",
       "        -5.01759607e-01-4.98100342e-01j,  6.51618614e-03+9.53339481e-03j],\n",
       "       [-5.64643516e-17-5.63949747e-17j, -1.69820418e-17-1.71168614e-17j,\n",
       "        -5.00000000e-01-5.00000000e-01j,  0.00000000e+00+0.00000000e+00j,\n",
       "        -2.77555756e-17-5.55111512e-17j,  5.00000000e-01+5.00000000e-01j,\n",
       "        -1.35645408e-17-1.36670287e-17j,  3.33122088e-17+3.32277034e-17j]])"
      ]
     },
     "execution_count": 104,
     "metadata": {},
     "output_type": "execute_result"
    }
   ],
   "source": [
    "theta = np.pi / 3\n",
    "# U = np.array([\n",
    "#     [np.exp(1j * theta), 0],\n",
    "#     [0, np.exp(-1j * theta)]\n",
    "# ], dtype=np.complex128)\n",
    "U = orbital_rotations_reshape[1]\n",
    "U"
   ]
  },
  {
   "cell_type": "code",
   "execution_count": 105,
   "id": "96f14e92",
   "metadata": {},
   "outputs": [],
   "source": [
    "import scipy\n",
    "tmp_H = scipy.linalg.logm(U)"
   ]
  },
  {
   "cell_type": "code",
   "execution_count": 106,
   "id": "e34677b2",
   "metadata": {},
   "outputs": [],
   "source": [
    "eigs, vecs = np.linalg.eigh(-1j * tmp_H)"
   ]
  },
  {
   "cell_type": "code",
   "execution_count": 107,
   "id": "f8fbd878",
   "metadata": {},
   "outputs": [
    {
     "name": "stdout",
     "output_type": "stream",
     "text": [
      "[ 9.95731275e-16+8.69963823e-16j -1.17961196e-16-8.29197822e-16j\n",
      "  5.27157390e-01+5.06539255e-16j -1.68803619e-01+3.05311332e-16j\n",
      "  6.44760042e-01-5.72458747e-16j  5.27157390e-01-3.77302356e-16j\n",
      " -2.77555756e-16-4.37150316e-16j -3.92047506e-16-4.92661467e-16j]\n",
      "[-2.11507845e-18+0.j -1.08839984e-18+0.j  5.27157390e-01+0.j\n",
      " -1.68803619e-01+0.j  6.44760042e-01+0.j  5.27157390e-01+0.j\n",
      " -1.19593089e-17+0.j  1.45042269e-17-0.j]\n",
      "True\n",
      "[ 1.44328993e-15+3.31332184e-16j -1.77809156e-16-8.11850587e-16j\n",
      "  5.27157390e-01-3.58962094e-16j -1.68803619e-01-7.78949261e-17j\n",
      "  6.44760042e-01-5.37235215e-16j  5.27157390e-01+2.32616104e-16j\n",
      " -1.90819582e-16-1.59594560e-16j -4.19030587e-16-7.21536546e-17j]\n",
      "[-2.11507845e-18+0.j -1.08839984e-18+0.j  5.27157390e-01+0.j\n",
      " -1.68803619e-01+0.j  6.44760042e-01+0.j  5.27157390e-01+0.j\n",
      " -1.19593089e-17+0.j  1.45042269e-17-0.j]\n",
      "True\n",
      "True\n"
     ]
    }
   ],
   "source": [
    "import scipy.linalg\n",
    "\n",
    "\n",
    "new_U = np.einsum(\"ij,j,kj->ik\", vecs, np.exp(1j * eigs), vecs.conj())\n",
    "print(new_U[0])\n",
    "print(U[0])\n",
    "print(np.allclose(U, new_U))\n",
    "new_U_expm = scipy.linalg.expm(tmp_H)\n",
    "print(new_U_expm[0])\n",
    "print(U[0])\n",
    "print(np.allclose(U, new_U_expm))\n",
    "print(np.allclose(new_U_expm, new_U, atol=1e-8))"
   ]
  },
  {
   "cell_type": "code",
   "execution_count": null,
   "id": "8b7d9c1a",
   "metadata": {},
   "outputs": [],
   "source": []
  }
 ],
 "metadata": {
  "kernelspec": {
   "display_name": ".venv",
   "language": "python",
   "name": "python3"
  },
  "language_info": {
   "codemirror_mode": {
    "name": "ipython",
    "version": 3
   },
   "file_extension": ".py",
   "mimetype": "text/x-python",
   "name": "python",
   "nbconvert_exporter": "python",
   "pygments_lexer": "ipython3",
   "version": "3.10.12"
  }
 },
 "nbformat": 4,
 "nbformat_minor": 5
}
