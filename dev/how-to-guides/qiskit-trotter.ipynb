{
 "cells": [
  {
   "cell_type": "markdown",
   "metadata": {},
   "source": [
    "# How to build Qiskit circuits for Trotterized Hamiltonian simulation\n",
    "\n",
    "This guide provides some examples of building and transpiling Qiskit circuits for Trotterized time evolution of various Hamiltonians."
   ]
  },
  {
   "cell_type": "code",
   "execution_count": 1,
   "metadata": {
    "execution": {
     "iopub.execute_input": "2025-10-31T15:40:39.122751Z",
     "iopub.status.busy": "2025-10-31T15:40:39.122496Z",
     "iopub.status.idle": "2025-10-31T15:40:40.107881Z",
     "shell.execute_reply": "2025-10-31T15:40:40.107101Z"
    }
   },
   "outputs": [],
   "source": [
    "import numpy as np\n",
    "import pyscf\n",
    "from qiskit.circuit import QuantumCircuit, QuantumRegister\n",
    "from qiskit.providers.fake_provider import GenericBackendV2\n",
    "from qiskit.transpiler.preset_passmanagers import generate_preset_pass_manager\n",
    "\n",
    "import ffsim"
   ]
  },
  {
   "cell_type": "markdown",
   "metadata": {},
   "source": [
    "## Molecular Hamiltonian in the double-factorized representation"
   ]
  },
  {
   "cell_type": "code",
   "execution_count": 2,
   "metadata": {
    "execution": {
     "iopub.execute_input": "2025-10-31T15:40:40.110498Z",
     "iopub.status.busy": "2025-10-31T15:40:40.110131Z",
     "iopub.status.idle": "2025-10-31T15:40:40.971628Z",
     "shell.execute_reply": "2025-10-31T15:40:40.970771Z"
    }
   },
   "outputs": [
    {
     "name": "stdout",
     "output_type": "stream",
     "text": [
      "converged SCF energy = -108.464957764796\n"
     ]
    },
    {
     "name": "stdout",
     "output_type": "stream",
     "text": [
      "norb = 8\n",
      "nelec = (5, 5)\n"
     ]
    },
    {
     "data": {
      "text/plain": [
       "OrderedDict([('xx_plus_yy', 1942),\n",
       "             ('cp', 1506),\n",
       "             ('p', 448),\n",
       "             ('measure', 16),\n",
       "             ('x', 10),\n",
       "             ('barrier', 1)])"
      ]
     },
     "execution_count": 2,
     "metadata": {},
     "output_type": "execute_result"
    }
   ],
   "source": [
    "# Build N2 molecule\n",
    "mol = pyscf.gto.Mole()\n",
    "mol.build(\n",
    "    atom=[[\"N\", (0, 0, 0)], [\"N\", (1.0, 0, 0)]],\n",
    "    basis=\"sto-6g\",\n",
    "    symmetry=\"Dooh\",\n",
    ")\n",
    "\n",
    "# Define active space\n",
    "n_frozen = pyscf.data.elements.chemcore(mol)\n",
    "active_space = range(n_frozen, mol.nao_nr())\n",
    "\n",
    "# Get molecular data and Hamiltonian\n",
    "scf = pyscf.scf.RHF(mol).run()\n",
    "mol_data = ffsim.MolecularData.from_scf(scf, active_space=active_space)\n",
    "norb, nelec = mol_data.norb, mol_data.nelec\n",
    "mol_hamiltonian = mol_data.hamiltonian\n",
    "print(f\"norb = {norb}\")\n",
    "print(f\"nelec = {nelec}\")\n",
    "\n",
    "# Get Hamiltonian in double-factorized representation\n",
    "df_hamiltonian = ffsim.DoubleFactorizedHamiltonian.from_molecular_hamiltonian(\n",
    "    mol_hamiltonian\n",
    ")\n",
    "\n",
    "# Construct circuit\n",
    "# For the initial state, take the Hartree-Fock state\n",
    "qubits = QuantumRegister(2 * norb, name=\"q\")\n",
    "circuit = QuantumCircuit(qubits)\n",
    "circuit.append(ffsim.qiskit.PrepareHartreeFockJW(norb, nelec), qubits)\n",
    "circuit.append(\n",
    "    ffsim.qiskit.SimulateTrotterDoubleFactorizedJW(\n",
    "        df_hamiltonian, time=1.0, n_steps=1, order=0\n",
    "    ),\n",
    "    qubits,\n",
    ")\n",
    "circuit.measure_all()\n",
    "\n",
    "# Create a generic backend and transpile the circuit to it\n",
    "backend = GenericBackendV2(2 * norb, basis_gates=[\"cp\", \"xx_plus_yy\", \"p\", \"x\"])\n",
    "pass_manager = generate_preset_pass_manager(optimization_level=3, backend=backend)\n",
    "# Set the pre-initialization stage of the pass manager with passes suggested by ffsim\n",
    "pass_manager.pre_init = ffsim.qiskit.PRE_INIT\n",
    "transpiled = pass_manager.run(circuit)\n",
    "\n",
    "transpiled.count_ops()"
   ]
  },
  {
   "cell_type": "markdown",
   "metadata": {},
   "source": [
    "## Fermi-Hubbard model with split-operator method"
   ]
  },
  {
   "cell_type": "code",
   "execution_count": 3,
   "metadata": {
    "execution": {
     "iopub.execute_input": "2025-10-31T15:40:40.973688Z",
     "iopub.status.busy": "2025-10-31T15:40:40.973489Z",
     "iopub.status.idle": "2025-10-31T15:40:41.521404Z",
     "shell.execute_reply": "2025-10-31T15:40:41.520598Z"
    }
   },
   "outputs": [
    {
     "data": {
      "text/plain": [
       "OrderedDict([('xx_plus_yy', 514),\n",
       "             ('p', 54),\n",
       "             ('measure', 32),\n",
       "             ('cp', 16),\n",
       "             ('x', 4),\n",
       "             ('barrier', 1)])"
      ]
     },
     "execution_count": 3,
     "metadata": {},
     "output_type": "execute_result"
    }
   ],
   "source": [
    "# Build Hubbard model and set number of electrons\n",
    "norb_x = 4\n",
    "norb_y = 4\n",
    "norb = norb_x * norb_y\n",
    "nelec = (2, 2)\n",
    "n_alpha, n_beta = nelec\n",
    "op = ffsim.fermi_hubbard_2d(\n",
    "    norb_x=norb_x,\n",
    "    norb_y=norb_y,\n",
    "    tunneling=1.0,\n",
    "    interaction=4.0,\n",
    "    chemical_potential=0.0,\n",
    "    periodic_x=True,\n",
    "    periodic_y=False,\n",
    ")\n",
    "\n",
    "# Convert the FermionOperator to a DiagonalCoulombHamiltonian\n",
    "dc_hamiltonian = ffsim.DiagonalCoulombHamiltonian.from_fermion_operator(op)\n",
    "\n",
    "# Construct circuit\n",
    "# For the initial state, take the ground state of the one-body part of the Hamiltonian\n",
    "qubits = QuantumRegister(2 * norb, name=\"q\")\n",
    "circuit = QuantumCircuit(qubits)\n",
    "eigs, orbital_rotation = np.linalg.eigh(dc_hamiltonian.one_body_tensor)\n",
    "circuit.append(\n",
    "    ffsim.qiskit.PrepareSlaterDeterminantJW(\n",
    "        norb,\n",
    "        occupied_orbitals=(range(n_alpha), range(n_beta)),\n",
    "        orbital_rotation=orbital_rotation,\n",
    "    ),\n",
    "    qubits,\n",
    ")\n",
    "circuit.append(\n",
    "    ffsim.qiskit.SimulateTrotterDiagCoulombSplitOpJW(\n",
    "        dc_hamiltonian, time=1.0, n_steps=1, order=0\n",
    "    ),\n",
    "    qubits,\n",
    ")\n",
    "circuit.measure_all()\n",
    "\n",
    "# Create a generic backend and transpile the circuit to it\n",
    "backend = GenericBackendV2(2 * norb, basis_gates=[\"cp\", \"xx_plus_yy\", \"p\", \"x\"])\n",
    "pass_manager = generate_preset_pass_manager(optimization_level=3, backend=backend)\n",
    "# Set the pre-initialization stage of the pass manager with passes suggested by ffsim\n",
    "pass_manager.pre_init = ffsim.qiskit.PRE_INIT\n",
    "transpiled = pass_manager.run(circuit)\n",
    "\n",
    "transpiled.count_ops()"
   ]
  }
 ],
 "metadata": {
  "kernelspec": {
   "display_name": ".venv",
   "language": "python",
   "name": "python3"
  },
  "language_info": {
   "codemirror_mode": {
    "name": "ipython",
    "version": 3
   },
   "file_extension": ".py",
   "mimetype": "text/x-python",
   "name": "python",
   "nbconvert_exporter": "python",
   "pygments_lexer": "ipython3",
   "version": "3.13.7"
  }
 },
 "nbformat": 4,
 "nbformat_minor": 4
}
