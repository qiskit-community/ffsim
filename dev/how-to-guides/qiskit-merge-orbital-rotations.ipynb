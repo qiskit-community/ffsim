{
 "cells": [
  {
   "cell_type": "markdown",
   "metadata": {},
   "source": [
    "# How to merge orbital rotations in Qiskit circuits\n",
    "\n",
    "Due to the homomorphism property of [orbital rotations](../explanations/orbital-rotation.ipynb), adjacent orbital rotations occurring in a quantum circuit can be merged into a single orbital rotation, reducing the number of gates that result when the circuit is decomposed into more basic gates.\n",
    "\n",
    "The following code cell constructs an example of a circuit containing two sequences of consecutive orbital rotations separated by a diagonal Coulomb evolution gate."
   ]
  },
  {
   "cell_type": "code",
   "execution_count": 1,
   "metadata": {
    "execution": {
     "iopub.execute_input": "2025-10-07T20:14:00.276141Z",
     "iopub.status.busy": "2025-10-07T20:14:00.275979Z",
     "iopub.status.idle": "2025-10-07T20:14:01.669928Z",
     "shell.execute_reply": "2025-10-07T20:14:01.669389Z"
    }
   },
   "outputs": [
    {
     "data": {
      "image/png": "[encoded data removed]",
      "text/plain": [
       "<Figure size 874.831x421.4 with 1 Axes>"
      ]
     },
     "execution_count": 1,
     "metadata": {},
     "output_type": "execute_result"
    }
   ],
   "source": [
    "import numpy as np\n",
    "from qiskit.circuit import QuantumCircuit, QuantumRegister\n",
    "\n",
    "import ffsim\n",
    "\n",
    "rng = np.random.default_rng(12345)\n",
    "norb = 4\n",
    "nelec = (2, 2)\n",
    "\n",
    "qubits = QuantumRegister(2 * norb, name=\"q\")\n",
    "circuit = QuantumCircuit(qubits)\n",
    "circuit.append(ffsim.qiskit.PrepareHartreeFockJW(norb, nelec), qubits)\n",
    "for _ in range(2):\n",
    "    circuit.append(\n",
    "        ffsim.qiskit.OrbitalRotationJW(\n",
    "            norb, ffsim.random.random_unitary(norb, seed=rng)\n",
    "        ),\n",
    "        qubits,\n",
    "    )\n",
    "circuit.append(\n",
    "    ffsim.qiskit.DiagCoulombEvolutionJW(\n",
    "        norb, ffsim.random.random_real_symmetric_matrix(norb), time=1.0\n",
    "    ),\n",
    "    qubits,\n",
    ")\n",
    "for _ in range(3):\n",
    "    circuit.append(\n",
    "        ffsim.qiskit.OrbitalRotationJW(\n",
    "            norb, ffsim.random.random_unitary(norb, seed=rng)\n",
    "        ),\n",
    "        qubits,\n",
    "    )\n",
    "\n",
    "circuit.draw(\"mpl\", scale=0.6)"
   ]
  },
  {
   "cell_type": "markdown",
   "metadata": {},
   "source": [
    "To merge orbital rotations in the circuit, run the [ffsim.qiskit.PRE_INIT](../api/ffsim.qiskit.rst#ffsim.qiskit.PRE_INIT) pass manager on it. This pass manager contains transpiler passes that decompose higher-level gates into orbital rotations and then merges them."
   ]
  },
  {
   "cell_type": "code",
   "execution_count": 2,
   "metadata": {
    "execution": {
     "iopub.execute_input": "2025-10-07T20:14:01.671804Z",
     "iopub.status.busy": "2025-10-07T20:14:01.671499Z",
     "iopub.status.idle": "2025-10-07T20:14:01.777620Z",
     "shell.execute_reply": "2025-10-07T20:14:01.777101Z"
    }
   },
   "outputs": [
    {
     "data": {
      "image/png": "[encoded data removed]",
      "text/plain": [
       "<Figure size 423.331x421.4 with 1 Axes>"
      ]
     },
     "execution_count": 2,
     "metadata": {},
     "output_type": "execute_result"
    }
   ],
   "source": [
    "transpiled = ffsim.qiskit.PRE_INIT.run(circuit)\n",
    "transpiled.draw(\"mpl\", scale=0.6)"
   ]
  },
  {
   "cell_type": "markdown",
   "metadata": {},
   "source": [
    "Notice that the first sequence of orbital rotations got merged with the Hartree-Fock state preparation gate to produce a Slater determinant preparation gate, which provides a more optimized gate decomposition (see [*Orbital Rotations*](../explanations/orbital-rotation.ipynb#quantum-circuit-implementation)).\n",
    "\n",
    "The `ffsim.qiskit.PRE_INIT` pass manager is so named because it can be set as the `pre_init` stage of a Qiskit staged pass manager. The following code cell demonstrates a typical transpilation workflow in Qiskit that uses the `ffsim.qiskit.PRE_INIT` pass manager to ensure that orbital rotations are merged."
   ]
  },
  {
   "cell_type": "code",
   "execution_count": 3,
   "metadata": {
    "execution": {
     "iopub.execute_input": "2025-10-07T20:14:01.779312Z",
     "iopub.status.busy": "2025-10-07T20:14:01.779142Z",
     "iopub.status.idle": "2025-10-07T20:14:02.006870Z",
     "shell.execute_reply": "2025-10-07T20:14:02.006386Z"
    }
   },
   "outputs": [
    {
     "data": {
      "text/plain": [
       "OrderedDict([('cp', 28), ('xx_plus_yy', 20), ('p', 16), ('x', 4)])"
      ]
     },
     "execution_count": 3,
     "metadata": {},
     "output_type": "execute_result"
    }
   ],
   "source": [
    "from qiskit.providers.fake_provider import GenericBackendV2\n",
    "from qiskit.transpiler.preset_passmanagers import generate_preset_pass_manager\n",
    "\n",
    "# Initialize quantum device backend\n",
    "backend = GenericBackendV2(2 * norb, basis_gates=[\"cp\", \"xx_plus_yy\", \"p\", \"x\"])\n",
    "\n",
    "# Create a pass manager for circuit transpilation\n",
    "pass_manager = generate_preset_pass_manager(optimization_level=3, backend=backend)\n",
    "\n",
    "# Set the pre-initialization stage of the pass manager with passes suggested by ffsim\n",
    "pass_manager.pre_init = ffsim.qiskit.PRE_INIT\n",
    "\n",
    "# Transpile the circuit\n",
    "transpiled = pass_manager.run(circuit)\n",
    "\n",
    "transpiled.count_ops()"
   ]
  },
  {
   "cell_type": "markdown",
   "metadata": {},
   "source": [
    "Without setting the `pre_init` stage of the pass manager, the number of XXPlusYYGates would be much higher."
   ]
  },
  {
   "cell_type": "code",
   "execution_count": 4,
   "metadata": {
    "execution": {
     "iopub.execute_input": "2025-10-07T20:14:02.008632Z",
     "iopub.status.busy": "2025-10-07T20:14:02.008437Z",
     "iopub.status.idle": "2025-10-07T20:14:02.222974Z",
     "shell.execute_reply": "2025-10-07T20:14:02.222459Z"
    }
   },
   "outputs": [
    {
     "data": {
      "text/plain": [
       "OrderedDict([('xx_plus_yy', 60), ('p', 40), ('cp', 28), ('x', 4)])"
      ]
     },
     "execution_count": 4,
     "metadata": {},
     "output_type": "execute_result"
    }
   ],
   "source": [
    "pass_manager = generate_preset_pass_manager(optimization_level=3, backend=backend)\n",
    "transpiled = pass_manager.run(circuit)\n",
    "\n",
    "transpiled.count_ops()"
   ]
  }
 ],
 "metadata": {
  "kernelspec": {
   "display_name": "ffsim",
   "language": "python",
   "name": "python3"
  },
  "language_info": {
   "codemirror_mode": {
    "name": "ipython",
    "version": 3
   },
   "file_extension": ".py",
   "mimetype": "text/x-python",
   "name": "python",
   "nbconvert_exporter": "python",
   "pygments_lexer": "ipython3",
   "version": "3.13.7"
  }
 },
 "nbformat": 4,
 "nbformat_minor": 2
}
