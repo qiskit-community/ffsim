{
 "cells": [
  {
   "cell_type": "markdown",
   "metadata": {},
   "source": [
    "# How to simulate the local unitary cluster Jastrow (LUCJ) ansatz\n",
    "\n",
    "In this guide, we show how to use ffsim to simulate the [local unitary cluster Jastrow (LUCJ) ansatz](../explanations/lucj.ipynb). We'll use it to calculate an approximation to the ground state energy of an ethene molecule.\n",
    "\n",
    "First, let's build the molecule."
   ]
  },
  {
   "cell_type": "code",
   "execution_count": 1,
   "metadata": {
    "execution": {
     "iopub.execute_input": "2024-06-03T01:25:04.074132Z",
     "iopub.status.busy": "2024-06-03T01:25:04.073941Z",
     "iopub.status.idle": "2024-06-03T01:25:05.075028Z",
     "shell.execute_reply": "2024-06-03T01:25:05.074370Z"
    }
   },
   "outputs": [
    {
     "name": "stdout",
     "output_type": "stream",
     "text": [
      "converged SCF energy = -77.8266321248745\n"
     ]
    },
    {
     "name": "stdout",
     "output_type": "stream",
     "text": [
      "CASCI E = -77.8742165643862  E(CI) = -4.02122442107773  S^2 = 0.0000000\n"
     ]
    },
    {
     "name": "stdout",
     "output_type": "stream",
     "text": [
      "norb = 4\n",
      "nelec = (2, 2)\n"
     ]
    }
   ],
   "source": [
    "import pyscf\n",
    "import pyscf.mcscf\n",
    "\n",
    "import ffsim\n",
    "\n",
    "# Build an ethene molecule\n",
    "bond_distance = 1.339\n",
    "a = 0.5 * bond_distance\n",
    "b = a + 0.5626\n",
    "c = 0.9289\n",
    "mol = pyscf.gto.Mole()\n",
    "mol.build(\n",
    "    atom=[\n",
    "        [\"C\", (0, 0, a)],\n",
    "        [\"C\", (0, 0, -a)],\n",
    "        [\"H\", (0, c, b)],\n",
    "        [\"H\", (0, -c, b)],\n",
    "        [\"H\", (0, c, -b)],\n",
    "        [\"H\", (0, -c, -b)],\n",
    "    ],\n",
    "    basis=\"sto-6g\",\n",
    "    symmetry=\"d2h\",\n",
    ")\n",
    "\n",
    "# Define active space\n",
    "active_space = range(mol.nelectron // 2 - 2, mol.nelectron // 2 + 2)\n",
    "\n",
    "# Get molecular data and molecular Hamiltonian (one- and two-body tensors)\n",
    "scf = pyscf.scf.RHF(mol).run()\n",
    "mol_data = ffsim.MolecularData.from_scf(scf, active_space=active_space)\n",
    "norb = mol_data.norb\n",
    "nelec = mol_data.nelec\n",
    "mol_hamiltonian = mol_data.hamiltonian\n",
    "\n",
    "# Compute FCI energy\n",
    "mol_data.run_fci()\n",
    "\n",
    "print(f\"norb = {norb}\")\n",
    "print(f\"nelec = {nelec}\")"
   ]
  },
  {
   "cell_type": "markdown",
   "metadata": {},
   "source": [
    "## General UCJ ansatz\n",
    "\n",
    "Since our molecule has a closed-shell Hartree-Fock state, we'll use the spin-balanced variant of the UCJ ansatz, [UCJOpSpinBalanced](../api/ffsim.rst#ffsim.UCJOpSpinBalanced). We'll initialize the ansatz from t2 amplitudes obtained from a CCSD calculations. We'll first demonstrate the general UCJ ansatz, without adding the locality constraints of the LUCJ ansatz just yet.\n",
    "\n",
    "The following code cell initializes the ansatz operator, applies it to the Hartree-Fock state, and computes the energy of the resulting state."
   ]
  },
  {
   "cell_type": "code",
   "execution_count": 2,
   "metadata": {
    "execution": {
     "iopub.execute_input": "2024-06-03T01:25:05.079716Z",
     "iopub.status.busy": "2024-06-03T01:25:05.078648Z",
     "iopub.status.idle": "2024-06-03T01:25:05.152561Z",
     "shell.execute_reply": "2024-06-03T01:25:05.151980Z"
    }
   },
   "outputs": [
    {
     "name": "stdout",
     "output_type": "stream",
     "text": [
      "E(CCSD) = -77.8742153637403  E_corr = -0.04758323886584706\n"
     ]
    },
    {
     "name": "stdout",
     "output_type": "stream",
     "text": [
      "Energy at initialization: -77.87160024816258\n"
     ]
    }
   ],
   "source": [
    "import numpy as np\n",
    "from pyscf import cc\n",
    "\n",
    "# Get CCSD t2 amplitudes for initializing the ansatz\n",
    "ccsd = cc.CCSD(\n",
    "    scf, frozen=[i for i in range(mol.nao_nr()) if i not in active_space]\n",
    ").run()\n",
    "\n",
    "# Construct UCJ operator\n",
    "n_reps = 2\n",
    "operator = ffsim.UCJOpSpinBalanced.from_t_amplitudes(ccsd.t2, n_reps=n_reps)\n",
    "\n",
    "# Construct the Hartree-Fock state to use as the reference state\n",
    "reference_state = ffsim.hartree_fock_state(norb, nelec)\n",
    "\n",
    "# Apply the operator to the reference state\n",
    "ansatz_state = ffsim.apply_unitary(reference_state, operator, norb=norb, nelec=nelec)\n",
    "\n",
    "# Compute the energy ⟨ψ|H|ψ⟩ of the ansatz state\n",
    "hamiltonian = ffsim.linear_operator(mol_hamiltonian, norb=norb, nelec=nelec)\n",
    "energy = np.real(np.vdot(ansatz_state, hamiltonian @ ansatz_state))\n",
    "print(f\"Energy at initialization: {energy}\")"
   ]
  },
  {
   "cell_type": "markdown",
   "metadata": {},
   "source": [
    "To variationally optimize the ansatz, we'll take advantage of methods for conversion to and from real-valued parameter vectors. In the following code cell, we define an objective function that takes a parameter vector as input and outputs the energy of the associated ansatz state. We then optimize this objective function using `scipy.optimize.minimize`, with an initial guess obtained from the operator we initialized previously from t2 amplitudes."
   ]
  },
  {
   "cell_type": "code",
   "execution_count": 3,
   "metadata": {
    "execution": {
     "iopub.execute_input": "2024-06-03T01:25:05.155520Z",
     "iopub.status.busy": "2024-06-03T01:25:05.155292Z",
     "iopub.status.idle": "2024-06-03T01:26:16.561091Z",
     "shell.execute_reply": "2024-06-03T01:26:16.560467Z"
    }
   },
   "outputs": [
    {
     "name": "stdout",
     "output_type": "stream",
     "text": [
      "Number of parameters: 72\n",
      "  message: STOP: TOTAL NO. of ITERATIONS REACHED LIMIT\n",
      "  success: False\n",
      "   status: 1\n",
      "      fun: -77.87387392186058\n",
      "        x: [-4.772e-01  4.819e-04 ...  1.598e-04  1.286e-01]\n",
      "      nit: 10\n",
      "      jac: [ 5.400e-05  2.274e-05 ... -9.948e-06  4.263e-06]\n",
      "     nfev: 949\n",
      "     njev: 13\n",
      " hess_inv: <72x72 LbfgsInvHessProduct with dtype=float64>\n"
     ]
    }
   ],
   "source": [
    "import scipy.optimize\n",
    "\n",
    "\n",
    "def fun(x):\n",
    "    # Initialize the ansatz operator from the parameter vector\n",
    "    operator = ffsim.UCJOpSpinBalanced.from_parameters(x, norb=norb, n_reps=n_reps)\n",
    "    # Apply the ansatz operator to the reference state\n",
    "    final_state = ffsim.apply_unitary(reference_state, operator, norb=norb, nelec=nelec)\n",
    "    # Return the energy ⟨ψ|H|ψ⟩ of the ansatz state\n",
    "    return np.real(np.vdot(final_state, hamiltonian @ final_state))\n",
    "\n",
    "\n",
    "result = scipy.optimize.minimize(\n",
    "    fun, x0=operator.to_parameters(), method=\"L-BFGS-B\", options=dict(maxiter=10)\n",
    ")\n",
    "\n",
    "print(f\"Number of parameters: {len(result.x)}\")\n",
    "print(result)"
   ]
  },
  {
   "cell_type": "markdown",
   "metadata": {},
   "source": [
    "## LUCJ ansatz\n",
    "\n",
    "Now, let's add locality constraints to simulate the LUCJ ansatz. We'll restrict same-spin interactions to a line topology, and opposite-spin interactions to those within the same spatial orbital. As explained in [The local unitary cluster Jastrow (LUCJ) ansatz](../explanations/lucj.ipynb#The-local-UCJ-(LUCJ)-ansatz), these constraints allow the ansatz to be simulated directly on a square lattice.\n",
    "\n",
    "In the following code cell, we demonstrate the optimization of the ansatz with these constraints imposed. Notice that with the same number of ansatz repetitions, the number of parameters of the ansatz has decreased from 72 to 46."
   ]
  },
  {
   "cell_type": "code",
   "execution_count": 4,
   "metadata": {
    "execution": {
     "iopub.execute_input": "2024-06-03T01:26:16.565453Z",
     "iopub.status.busy": "2024-06-03T01:26:16.564212Z",
     "iopub.status.idle": "2024-06-03T01:26:42.384235Z",
     "shell.execute_reply": "2024-06-03T01:26:42.383537Z"
    }
   },
   "outputs": [
    {
     "name": "stdout",
     "output_type": "stream",
     "text": [
      "Number of parameters: 46\n",
      "  message: CONVERGENCE: REL_REDUCTION_OF_F_<=_FACTR*EPSMCH\n",
      "  success: True\n",
      "   status: 0\n",
      "      fun: -77.87363426380354\n",
      "        x: [-4.772e-01  1.168e-04 ...  3.521e-02  2.561e-01]\n",
      "      nit: 5\n",
      "      jac: [ 1.563e-05 -7.105e-06 ... -2.842e-06  0.000e+00]\n",
      "     nfev: 329\n",
      "     njev: 7\n",
      " hess_inv: <46x46 LbfgsInvHessProduct with dtype=float64>\n"
     ]
    }
   ],
   "source": [
    "pairs_aa = [(p, p + 1) for p in range(norb - 1)]\n",
    "pairs_ab = [(p, p) for p in range(norb)]\n",
    "interaction_pairs = (pairs_aa, pairs_ab)\n",
    "\n",
    "\n",
    "def fun(x):\n",
    "    operator = ffsim.UCJOpSpinBalanced.from_parameters(\n",
    "        x, norb=norb, n_reps=n_reps, interaction_pairs=interaction_pairs\n",
    "    )\n",
    "    final_state = ffsim.apply_unitary(reference_state, operator, norb=norb, nelec=nelec)\n",
    "    return np.real(np.vdot(final_state, hamiltonian @ final_state))\n",
    "\n",
    "\n",
    "result = scipy.optimize.minimize(\n",
    "    fun,\n",
    "    x0=operator.to_parameters(interaction_pairs=interaction_pairs),\n",
    "    method=\"L-BFGS-B\",\n",
    "    options=dict(maxiter=10),\n",
    ")\n",
    "print(f\"Number of parameters: {len(result.x)}\")\n",
    "print(result)"
   ]
  },
  {
   "cell_type": "markdown",
   "metadata": {},
   "source": [
    "## Optimize with the linear method\n",
    "\n",
    "ffsim includes an implementation of the [\"linear method\"](https://arxiv.org/abs/1412.0490v2) for optimization of a variational wavefunction. The linear method often converges faster than a standard optimization algorithm like L-BFGS-B. The interface is similar to that of `scipy.optimize.minimize`, the main difference being that instead of passing a callable that directly returns the function value to be optimized, you pass two objects: a callable that returns the wavefunction, and the Hamiltonian representing the energy to be optimized as a `LinearOperator`. The code cell below shows how to use the linear method to optimize the LUCJ ansatz from the previous example. It also shows how you can use an optional callback function to save intermediate results of the optimization."
   ]
  },
  {
   "cell_type": "code",
   "execution_count": 5,
   "metadata": {
    "execution": {
     "iopub.execute_input": "2024-06-03T01:26:42.387382Z",
     "iopub.status.busy": "2024-06-03T01:26:42.387140Z",
     "iopub.status.idle": "2024-06-03T01:27:21.268455Z",
     "shell.execute_reply": "2024-06-03T01:27:21.267629Z"
    }
   },
   "outputs": [
    {
     "name": "stdout",
     "output_type": "stream",
     "text": [
      "Number of parameters: 46\n",
      " message: Stop: Total number of iterations reached limit.\n",
      " success: False\n",
      "     fun: -77.87366013961811\n",
      "       x: [-4.704e-01  2.361e-02 ...  3.467e-02  2.551e-01]\n",
      "     nit: 10\n",
      "     jac: [-1.312e-05 -8.541e-06 ... -6.256e-07 -3.317e-06]\n",
      "    nfev: 1387\n",
      "    njev: 10\n",
      "  nlinop: 927\n",
      "\n",
      "Iteration 1\n",
      "    Energy: -77.87362991081608\n",
      "    Norm of gradient: 0.0015385756893779726\n",
      "    Regularization hyperparameter: 0.0012433753530661342\n",
      "    Variation hyperparameter: 0.9888199796165016\n",
      "Iteration 2\n",
      "    Energy: -77.87363427419515\n",
      "    Norm of gradient: 8.678450159455216e-05\n",
      "    Regularization hyperparameter: 0.002018527220854813\n",
      "    Variation hyperparameter: 0.9809774997537801\n",
      "Iteration 3\n",
      "    Energy: -77.87363429340023\n",
      "    Norm of gradient: 3.078621792155736e-05\n",
      "    Regularization hyperparameter: 0.03741773695255475\n",
      "    Variation hyperparameter: 0.9740453595815499\n",
      "Iteration 4\n",
      "    Energy: -77.87363430273659\n",
      "    Norm of gradient: 2.40587414654968e-05\n",
      "    Regularization hyperparameter: 0.037417956358115\n",
      "    Variation hyperparameter: 0.9740453866634187\n",
      "Iteration 5\n",
      "    Energy: -77.87363430947835\n",
      "    Norm of gradient: 2.0942224002728818e-05\n",
      "    Regularization hyperparameter: 0.03741820705153177\n",
      "    Variation hyperparameter: 0.9740454492126576\n",
      "Iteration 6\n",
      "    Energy: -77.8736343148114\n",
      "    Norm of gradient: 1.903036179116817e-05\n",
      "    Regularization hyperparameter: 0.03741887611610218\n",
      "    Variation hyperparameter: 0.9740455536564059\n",
      "Iteration 7\n",
      "    Energy: -77.87363431933062\n",
      "    Norm of gradient: 1.7919962134921104e-05\n",
      "    Regularization hyperparameter: 0.03741887611610218\n",
      "    Variation hyperparameter: 0.9740455536564059\n",
      "Iteration 8\n",
      "    Energy: -77.87363432341388\n",
      "    Norm of gradient: 1.744219016014735e-05\n",
      "    Regularization hyperparameter: 0.037419903534400355\n",
      "    Variation hyperparameter: 0.9740452582532902\n",
      "Iteration 9\n",
      "    Energy: -77.87363445198494\n",
      "    Norm of gradient: 0.0001032807871057234\n",
      "    Regularization hyperparameter: 0.0008109382338436393\n",
      "    Variation hyperparameter: 0.9592190763563939\n"
     ]
    }
   ],
   "source": [
    "from collections import defaultdict\n",
    "\n",
    "from ffsim.optimize import minimize_linear_method\n",
    "\n",
    "\n",
    "# Define function that converts a list of parameters to the corresponding state vector\n",
    "def params_to_vec(x: np.ndarray) -> np.ndarray:\n",
    "    operator = ffsim.UCJOpSpinBalanced.from_parameters(\n",
    "        x, norb=norb, n_reps=n_reps, interaction_pairs=interaction_pairs\n",
    "    )\n",
    "    return ffsim.apply_unitary(reference_state, operator, norb=norb, nelec=nelec)\n",
    "\n",
    "\n",
    "# Define a callback function used to save optimization information (this is optional)\n",
    "info = defaultdict(list)\n",
    "\n",
    "\n",
    "def callback(intermediate_result: scipy.optimize.OptimizeResult):\n",
    "    # The callback function is called after each iteration. It accepts\n",
    "    # an OptimizeResult object storing the parameters and function value at\n",
    "    # the current iteration, and possibly other information\n",
    "    info[\"x\"].append(intermediate_result.x)\n",
    "    info[\"fun\"].append(intermediate_result.fun)\n",
    "    if hasattr(intermediate_result, \"jac\"):\n",
    "        info[\"jac\"].append(intermediate_result.jac)\n",
    "    if hasattr(intermediate_result, \"regularization\"):\n",
    "        info[\"regularization\"].append(intermediate_result.regularization)\n",
    "    if hasattr(intermediate_result, \"variation\"):\n",
    "        info[\"variation\"].append(intermediate_result.variation)\n",
    "\n",
    "\n",
    "# Optimize with the linear method\n",
    "result = minimize_linear_method(\n",
    "    params_to_vec,\n",
    "    hamiltonian,\n",
    "    x0=operator.to_parameters(interaction_pairs=interaction_pairs),\n",
    "    maxiter=10,\n",
    "    callback=callback,\n",
    ")\n",
    "\n",
    "# Print some information\n",
    "print(f\"Number of parameters: {len(result.x)}\")\n",
    "print(result)\n",
    "print()\n",
    "for i, (fun, jac, regularization, variation) in enumerate(\n",
    "    zip(info[\"fun\"], info[\"jac\"], info[\"regularization\"], info[\"variation\"])\n",
    "):\n",
    "    print(f\"Iteration {i + 1}\")\n",
    "    print(f\"    Energy: {fun}\")\n",
    "    print(f\"    Norm of gradient: {np.linalg.norm(jac)}\")\n",
    "    print(f\"    Regularization hyperparameter: {np.linalg.norm(regularization)}\")\n",
    "    print(f\"    Variation hyperparameter: {np.linalg.norm(variation)}\")"
   ]
  }
 ],
 "metadata": {
  "kernelspec": {
   "display_name": "ffsim-1cfkSnAR",
   "language": "python",
   "name": "python3"
  },
  "language_info": {
   "codemirror_mode": {
    "name": "ipython",
    "version": 3
   },
   "file_extension": ".py",
   "mimetype": "text/x-python",
   "name": "python",
   "nbconvert_exporter": "python",
   "pygments_lexer": "ipython3",
   "version": "3.12.3"
  }
 },
 "nbformat": 4,
 "nbformat_minor": 4
}
