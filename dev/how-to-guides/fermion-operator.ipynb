{
 "cells": [
  {
   "cell_type": "markdown",
   "metadata": {},
   "source": [
    "# How to use the FermionOperator class\n",
    "\n",
    "The FermionOperator class is used to represent a linear combination of products of fermionic creation and annihilation operators. For example:\n",
    "\n",
    "$$\n",
    "0.5 a_{0, \\alpha}^\\dagger a_{3, \\alpha} - 0.25 a_{3, \\alpha}^\\dagger a_{0, \\alpha}\n",
    "+ (1 + i) a_{1, \\beta}^\\dagger a_{5, \\beta} a_{4, \\alpha}^\\dagger.\n",
    "$$\n",
    "\n",
    "Such operators are represented programmatically as a dictionary (hash table) that maps each term to its associated coefficient. An individual term is represented as a tuple of fermionic actions. Each action is described by three pieces of information:\n",
    "\n",
    "1. Whether the action is to create or destroy a fermion.\n",
    "2. The spin of the orbital being acted upon (alpha or beta).\n",
    "3. The numerical index of the orbital.\n",
    "\n",
    "Internally, the action is itself represented as a tuple containing these three pieces of information, but we recommend using the helper functions `cre_a`, `cre_b`, `des_a`, and `des_b` to construct these tuples.\n",
    "\n",
    "The following code example shows how to construct the operator shown above."
   ]
  },
  {
   "cell_type": "code",
   "execution_count": 1,
   "metadata": {
    "execution": {
     "iopub.execute_input": "2024-06-23T03:26:20.873077Z",
     "iopub.status.busy": "2024-06-23T03:26:20.872586Z",
     "iopub.status.idle": "2024-06-23T03:26:21.538935Z",
     "shell.execute_reply": "2024-06-23T03:26:21.538330Z"
    }
   },
   "outputs": [
    {
     "data": {
      "text/plain": [
       "FermionOperator({\n",
       "    (cre_b(1), des_b(5), cre_a(4)): 1+1j,\n",
       "    (cre_a(0), des_a(3)): 0.5,\n",
       "    (cre_a(3), des_a(0)): -0.25\n",
       "})"
      ]
     },
     "execution_count": 1,
     "metadata": {},
     "output_type": "execute_result"
    }
   ],
   "source": [
    "import ffsim\n",
    "\n",
    "op1 = ffsim.FermionOperator(\n",
    "    {\n",
    "        (ffsim.cre_a(0), ffsim.des_a(3)): 0.5,\n",
    "        (ffsim.cre_a(3), ffsim.des_a(0)): -0.25,\n",
    "        (ffsim.cre_b(1), ffsim.des_b(5), ffsim.cre_a(4)): 1 + 1j,\n",
    "    }\n",
    ")\n",
    "op1"
   ]
  },
  {
   "cell_type": "markdown",
   "metadata": {},
   "source": [
    "Use `repr` to view a string representation that displays the action tuples."
   ]
  },
  {
   "cell_type": "code",
   "execution_count": 2,
   "metadata": {
    "execution": {
     "iopub.execute_input": "2024-06-23T03:26:21.541833Z",
     "iopub.status.busy": "2024-06-23T03:26:21.541201Z",
     "iopub.status.idle": "2024-06-23T03:26:21.545303Z",
     "shell.execute_reply": "2024-06-23T03:26:21.544782Z"
    }
   },
   "outputs": [
    {
     "data": {
      "text/plain": [
       "'FermionOperator({((True, True, 1), (False, True, 5), (True, False, 4)): 1+1j, ((True, False, 0), (False, False, 3)): 0.5+0j, ((True, False, 3), (False, False, 0)): -0.25+0j})'"
      ]
     },
     "execution_count": 2,
     "metadata": {},
     "output_type": "execute_result"
    }
   ],
   "source": [
    "repr(op1)"
   ]
  },
  {
   "cell_type": "markdown",
   "metadata": {},
   "source": [
    "FermionOperators support arithmetic operations. Note that when multiplying a FermionOperator by a scalar, the scalar must go on the left, i.e. `2 * op` and not `op * 2`."
   ]
  },
  {
   "cell_type": "code",
   "execution_count": 3,
   "metadata": {
    "execution": {
     "iopub.execute_input": "2024-06-23T03:26:21.547451Z",
     "iopub.status.busy": "2024-06-23T03:26:21.547260Z",
     "iopub.status.idle": "2024-06-23T03:26:21.551939Z",
     "shell.execute_reply": "2024-06-23T03:26:21.551442Z"
    }
   },
   "outputs": [
    {
     "data": {
      "text/plain": [
       "FermionOperator({\n",
       "    (cre_a(0), des_a(3), des_a(3), des_b(3)): -0.125,\n",
       "    (des_a(3), des_b(3)): 0.0625,\n",
       "    (cre_a(0), des_a(3)): 1,\n",
       "    (cre_b(1), des_b(5), cre_a(4), cre_b(2)): -1+1j,\n",
       "    (cre_b(1), des_b(5), cre_a(4), des_a(3), des_b(3)): -0.25-0.25j,\n",
       "    (cre_a(0), des_a(3), cre_b(2)): 0+0.5j,\n",
       "    (cre_a(3), des_a(0), des_a(3), des_b(3)): 0.0625,\n",
       "    (cre_a(3), des_a(0), cre_b(2)): 0-0.25j,\n",
       "    (cre_a(3), des_a(0)): -0.5,\n",
       "    (cre_b(1), des_b(5), cre_a(4)): 2+2j,\n",
       "    (cre_b(2)): 0-0.25j\n",
       "})"
      ]
     },
     "execution_count": 3,
     "metadata": {},
     "output_type": "execute_result"
    }
   ],
   "source": [
    "op2 = ffsim.FermionOperator(\n",
    "    {\n",
    "        (ffsim.cre_b(2),): 1j,\n",
    "        (ffsim.des_a(3), ffsim.des_b(3)): -0.25,\n",
    "    }\n",
    ")\n",
    "\n",
    "op3 = op1 * op2 + 2 * op1 - op2 / 4\n",
    "\n",
    "op3"
   ]
  },
  {
   "cell_type": "markdown",
   "metadata": {},
   "source": [
    "It is good to be aware that some in-place operations are especially efficient because they avoid copying data into a new FermionOperator object. These operations are:\n",
    "\n",
    "- In-place addition and subtraction\n",
    "- In-place multiplication and division by a scalar\n",
    "\n",
    "Some examples of usage:"
   ]
  },
  {
   "cell_type": "code",
   "execution_count": 4,
   "metadata": {
    "execution": {
     "iopub.execute_input": "2024-06-23T03:26:21.554220Z",
     "iopub.status.busy": "2024-06-23T03:26:21.553855Z",
     "iopub.status.idle": "2024-06-23T03:26:21.557880Z",
     "shell.execute_reply": "2024-06-23T03:26:21.557394Z"
    }
   },
   "outputs": [
    {
     "data": {
      "text/plain": [
       "FermionOperator({\n",
       "    (cre_a(0), des_a(3), des_a(3), des_b(3)): 0+0.5j,\n",
       "    (des_a(3), des_b(3)): 0-1.25j,\n",
       "    (cre_a(0), des_a(3)): 0-6j,\n",
       "    (cre_b(1), des_b(5), cre_a(4), cre_b(2)): 4+4j,\n",
       "    (cre_b(1), des_b(5), cre_a(4), des_a(3), des_b(3)): -1+1j,\n",
       "    (cre_a(0), des_a(3), cre_b(2)): 2,\n",
       "    (cre_a(3), des_a(0), des_a(3), des_b(3)): 0-0.25j,\n",
       "    (cre_a(3), des_a(0), cre_b(2)): -1,\n",
       "    (cre_a(3), des_a(0)): 0+3j,\n",
       "    (cre_b(1), des_b(5), cre_a(4)): 12-12j,\n",
       "    (cre_b(2)): -5\n",
       "})"
      ]
     },
     "execution_count": 4,
     "metadata": {},
     "output_type": "execute_result"
    }
   ],
   "source": [
    "op3 += op1\n",
    "op3 -= op2\n",
    "op3 *= 4\n",
    "op3 /= 1j\n",
    "op3"
   ]
  },
  {
   "cell_type": "markdown",
   "metadata": {},
   "source": [
    "Operators can be normal-ordered by calling the `normal_ordered` method, which returns a new FermionOperator. In the normal-ordered form of a FermionOperator, the operators comprising each term appear from left to right in descending lexicographic order by `(action, spin, orb)`. That is, all creation operators appear before all annihilation operators; within creation/annihilation operators, spin beta operators appear before spin alpha operators, and larger orbital indices appear before smaller orbital indices."
   ]
  },
  {
   "cell_type": "code",
   "execution_count": 5,
   "metadata": {
    "execution": {
     "iopub.execute_input": "2024-06-23T03:26:21.560295Z",
     "iopub.status.busy": "2024-06-23T03:26:21.559835Z",
     "iopub.status.idle": "2024-06-23T03:26:21.563879Z",
     "shell.execute_reply": "2024-06-23T03:26:21.563378Z"
    }
   },
   "outputs": [
    {
     "data": {
      "text/plain": [
       "FermionOperator({\n",
       "    (cre_b(2), cre_a(0), des_a(3)): 2,\n",
       "    (cre_b(2)): -5,\n",
       "    (cre_a(0), des_a(3)): 0-6j,\n",
       "    (cre_a(3), des_a(0)): 0+3j,\n",
       "    (cre_b(1), cre_a(4), des_b(5), des_b(3), des_a(3)): -1+1j,\n",
       "    (des_b(3), des_a(3)): 0+1.25j,\n",
       "    (cre_b(2), cre_a(3), des_a(0)): -1,\n",
       "    (cre_b(2), cre_b(1), cre_a(4), des_b(5)): 4+4j,\n",
       "    (cre_a(3), des_b(3), des_a(3), des_a(0)): 0+0.25j,\n",
       "    (cre_b(1), cre_a(4), des_b(5)): -12+12j\n",
       "})"
      ]
     },
     "execution_count": 5,
     "metadata": {},
     "output_type": "execute_result"
    }
   ],
   "source": [
    "op3.normal_ordered()"
   ]
  },
  {
   "cell_type": "markdown",
   "metadata": {},
   "source": [
    "If a FermionOperator conserves particle number and the Z component of spin, then it can be converted to a [LinearOperator](https://docs.scipy.org/doc/scipy/reference/generated/scipy.sparse.linalg.LinearOperator.html) using the `ffsim.linear_operator` function. In order for a FermionOperator to conserve particle number and the Z component of spin, it must preserve the number of spin-alpha fermions and the number of spin-beta fermions. So far, the operators we have created do not satisfy these criteria:"
   ]
  },
  {
   "cell_type": "code",
   "execution_count": 6,
   "metadata": {
    "execution": {
     "iopub.execute_input": "2024-06-23T03:26:21.566144Z",
     "iopub.status.busy": "2024-06-23T03:26:21.565866Z",
     "iopub.status.idle": "2024-06-23T03:26:21.569148Z",
     "shell.execute_reply": "2024-06-23T03:26:21.568551Z"
    }
   },
   "outputs": [
    {
     "name": "stdout",
     "output_type": "stream",
     "text": [
      "False\n",
      "False\n"
     ]
    }
   ],
   "source": [
    "print(op3.conserves_particle_number())\n",
    "print(op3.conserves_spin_z())"
   ]
  },
  {
   "cell_type": "markdown",
   "metadata": {},
   "source": [
    "Let's construct a FermionOperator that does conserve particle number and spin, and then convert it to a LinearOperator within the subspace of 3 spatial orbitals with 1 alpha and 1 beta fermion."
   ]
  },
  {
   "cell_type": "code",
   "execution_count": 7,
   "metadata": {
    "execution": {
     "iopub.execute_input": "2024-06-23T03:26:21.594049Z",
     "iopub.status.busy": "2024-06-23T03:26:21.593861Z",
     "iopub.status.idle": "2024-06-23T03:26:21.597905Z",
     "shell.execute_reply": "2024-06-23T03:26:21.597369Z"
    }
   },
   "outputs": [
    {
     "name": "stdout",
     "output_type": "stream",
     "text": [
      "True\n",
      "True\n"
     ]
    }
   ],
   "source": [
    "op4 = ffsim.FermionOperator(\n",
    "    {\n",
    "        (ffsim.cre_a(0), ffsim.des_a(3)): 1 + 1j,\n",
    "        (ffsim.cre_a(1), ffsim.des_a(1), ffsim.cre_b(1), ffsim.des_b(1)): -0.5,\n",
    "    }\n",
    ")\n",
    "print(op4.conserves_particle_number())\n",
    "print(op4.conserves_spin_z())\n",
    "\n",
    "norb = 3\n",
    "nelec = (1, 1)\n",
    "linop = ffsim.linear_operator(op4, norb=norb, nelec=nelec)"
   ]
  },
  {
   "cell_type": "markdown",
   "metadata": {},
   "source": [
    "A LinearOperator can be matrix-multiplied onto a vector:"
   ]
  },
  {
   "cell_type": "code",
   "execution_count": 8,
   "metadata": {
    "execution": {
     "iopub.execute_input": "2024-06-23T03:26:21.599964Z",
     "iopub.status.busy": "2024-06-23T03:26:21.599770Z",
     "iopub.status.idle": "2024-06-23T03:26:21.605655Z",
     "shell.execute_reply": "2024-06-23T03:26:21.605081Z"
    }
   },
   "outputs": [
    {
     "data": {
      "text/plain": [
       "array([0.        +0.j        , 0.        +0.j        ,\n",
       "       0.        +0.j        , 0.        +0.j        ,\n",
       "       0.07518771+0.08053379j, 0.        +0.j        ,\n",
       "       0.        +0.j        , 0.        +0.j        ,\n",
       "       0.        +0.j        ])"
      ]
     },
     "execution_count": 8,
     "metadata": {},
     "output_type": "execute_result"
    }
   ],
   "source": [
    "vec = ffsim.random.random_statevector(ffsim.dim(norb, nelec))\n",
    "linop @ vec"
   ]
  },
  {
   "cell_type": "markdown",
   "metadata": {},
   "source": [
    "It can also be passed into most linear algebra routines in `scipy.sparse.linalg`."
   ]
  },
  {
   "cell_type": "code",
   "execution_count": 9,
   "metadata": {
    "execution": {
     "iopub.execute_input": "2024-06-23T03:26:21.608078Z",
     "iopub.status.busy": "2024-06-23T03:26:21.607740Z",
     "iopub.status.idle": "2024-06-23T03:26:21.620398Z",
     "shell.execute_reply": "2024-06-23T03:26:21.619910Z"
    }
   },
   "outputs": [
    {
     "data": {
      "text/plain": [
       "array([-0.5+1.21984743e-18j])"
      ]
     },
     "execution_count": 9,
     "metadata": {},
     "output_type": "execute_result"
    }
   ],
   "source": [
    "import scipy.sparse.linalg\n",
    "\n",
    "eigs, vecs = scipy.sparse.linalg.eigs(linop, which=\"LM\", k=1)\n",
    "eigs"
   ]
  }
 ],
 "metadata": {
  "kernelspec": {
   "display_name": "ffsim-Z17aaLzy",
   "language": "python",
   "name": "python3"
  },
  "language_info": {
   "codemirror_mode": {
    "name": "ipython",
    "version": 3
   },
   "file_extension": ".py",
   "mimetype": "text/x-python",
   "name": "python",
   "nbconvert_exporter": "python",
   "pygments_lexer": "ipython3",
   "version": "3.12.4"
  }
 },
 "nbformat": 4,
 "nbformat_minor": 2
}
