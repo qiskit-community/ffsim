{
 "cells": [
  {
   "cell_type": "markdown",
   "metadata": {},
   "source": [
    "# How to simulate the local unitary cluster Jastrow (LUCJ) ansatz\n",
    "\n",
    "In this guide, we show how to use ffsim to simulate the [local unitary cluster Jastrow (LUCJ) ansatz](../explanations/lucj.ipynb). We'll use it to calculate an approximation to the ground state energy of an ethene molecule.\n",
    "\n",
    "First, let's build the molecule."
   ]
  },
  {
   "cell_type": "code",
   "execution_count": 1,
   "metadata": {
    "execution": {
     "iopub.execute_input": "2025-10-31T10:44:23.949588Z",
     "iopub.status.busy": "2025-10-31T10:44:23.949388Z",
     "iopub.status.idle": "2025-10-31T10:44:25.147546Z",
     "shell.execute_reply": "2025-10-31T10:44:25.146988Z"
    }
   },
   "outputs": [
    {
     "name": "stdout",
     "output_type": "stream",
     "text": [
      "converged SCF energy = -77.8266321248745\n"
     ]
    },
    {
     "name": "stdout",
     "output_type": "stream",
     "text": [
      "Parsing /tmp/tmp458fsfbb\n",
      "converged SCF energy = -77.8266321248745\n"
     ]
    },
    {
     "name": "stdout",
     "output_type": "stream",
     "text": [
      "CASCI E = -77.8742165643863  E(CI) = -4.02122442107773  S^2 = 0.0000000\n"
     ]
    },
    {
     "name": "stdout",
     "output_type": "stream",
     "text": [
      "norb = 4\n",
      "nelec = (2, 2)\n"
     ]
    },
    {
     "name": "stderr",
     "output_type": "stream",
     "text": [
      "Overwritten attributes  get_ovlp get_hcore  of <class 'pyscf.scf.hf_symm.SymAdaptedRHF'>\n",
      "/home/runner/work/ffsim/ffsim/.tox/docs/lib/python3.13/site-packages/pyscf/gto/mole.py:1300: UserWarning: Function mol.dumps drops attribute energy_nuc because it is not JSON-serializable\n",
      "  warnings.warn(msg)\n",
      "/home/runner/work/ffsim/ffsim/.tox/docs/lib/python3.13/site-packages/pyscf/gto/mole.py:1300: UserWarning: Function mol.dumps drops attribute intor_symmetric because it is not JSON-serializable\n",
      "  warnings.warn(msg)\n"
     ]
    }
   ],
   "source": [
    "import pyscf\n",
    "import pyscf.mcscf\n",
    "\n",
    "import ffsim\n",
    "\n",
    "# Build an ethene molecule\n",
    "bond_distance = 1.339\n",
    "a = 0.5 * bond_distance\n",
    "b = a + 0.5626\n",
    "c = 0.9289\n",
    "mol = pyscf.gto.Mole()\n",
    "mol.build(\n",
    "    atom=[\n",
    "        [\"C\", (0, 0, a)],\n",
    "        [\"C\", (0, 0, -a)],\n",
    "        [\"H\", (0, c, b)],\n",
    "        [\"H\", (0, -c, b)],\n",
    "        [\"H\", (0, c, -b)],\n",
    "        [\"H\", (0, -c, -b)],\n",
    "    ],\n",
    "    basis=\"sto-6g\",\n",
    "    symmetry=\"d2h\",\n",
    ")\n",
    "\n",
    "# Define active space\n",
    "active_space = range(mol.nelectron // 2 - 2, mol.nelectron // 2 + 2)\n",
    "\n",
    "# Get molecular data and molecular Hamiltonian (one- and two-body tensors)\n",
    "scf = pyscf.scf.RHF(mol).run()\n",
    "mol_data = ffsim.MolecularData.from_scf(scf, active_space=active_space)\n",
    "norb = mol_data.norb\n",
    "nelec = mol_data.nelec\n",
    "mol_hamiltonian = mol_data.hamiltonian\n",
    "\n",
    "# Compute FCI energy\n",
    "mol_data.run_fci()\n",
    "\n",
    "print(f\"norb = {norb}\")\n",
    "print(f\"nelec = {nelec}\")"
   ]
  },
  {
   "cell_type": "markdown",
   "metadata": {},
   "source": [
    "## General UCJ ansatz\n",
    "\n",
    "Since our molecule has a closed-shell Hartree-Fock state, we'll use the spin-balanced variant of the UCJ ansatz, [UCJOpSpinBalanced](../api/ffsim.rst#ffsim.UCJOpSpinBalanced). We'll initialize the ansatz from t2 amplitudes obtained from a CCSD calculations. We'll first demonstrate the general UCJ ansatz, without adding the locality constraints of the LUCJ ansatz just yet.\n",
    "\n",
    "The following code cell initializes the ansatz operator, applies it to the Hartree-Fock state, and computes the energy of the resulting state."
   ]
  },
  {
   "cell_type": "code",
   "execution_count": 2,
   "metadata": {
    "execution": {
     "iopub.execute_input": "2025-10-31T10:44:25.151580Z",
     "iopub.status.busy": "2025-10-31T10:44:25.151081Z",
     "iopub.status.idle": "2025-10-31T10:44:25.290540Z",
     "shell.execute_reply": "2025-10-31T10:44:25.287312Z"
    }
   },
   "outputs": [
    {
     "name": "stdout",
     "output_type": "stream",
     "text": [
      "E(CCSD) = -77.87421536374032  E_corr = -0.04758323886584898\n"
     ]
    },
    {
     "name": "stdout",
     "output_type": "stream",
     "text": [
      "Energy at initialization: -77.87160024816265\n"
     ]
    }
   ],
   "source": [
    "import numpy as np\n",
    "from pyscf import cc\n",
    "\n",
    "# Get CCSD t2 amplitudes for initializing the ansatz\n",
    "ccsd = cc.CCSD(\n",
    "    scf, frozen=[i for i in range(mol.nao_nr()) if i not in active_space]\n",
    ").run()\n",
    "\n",
    "# Construct UCJ operator\n",
    "n_reps = 2\n",
    "operator = ffsim.UCJOpSpinBalanced.from_t_amplitudes(ccsd.t2, t1=ccsd.t1, n_reps=n_reps)\n",
    "\n",
    "# Construct the Hartree-Fock state to use as the reference state\n",
    "reference_state = ffsim.hartree_fock_state(norb, nelec)\n",
    "\n",
    "# Apply the operator to the reference state\n",
    "ansatz_state = ffsim.apply_unitary(reference_state, operator, norb=norb, nelec=nelec)\n",
    "\n",
    "# Compute the energy ⟨ψ|H|ψ⟩ of the ansatz state\n",
    "hamiltonian = ffsim.linear_operator(mol_hamiltonian, norb=norb, nelec=nelec)\n",
    "energy = np.real(np.vdot(ansatz_state, hamiltonian @ ansatz_state))\n",
    "print(f\"Energy at initialization: {energy}\")"
   ]
  },
  {
   "cell_type": "markdown",
   "metadata": {},
   "source": [
    "To variationally optimize the ansatz, we'll take advantage of methods for conversion to and from real-valued parameter vectors. In the following code cell, we define an objective function that takes a parameter vector as input and outputs the energy of the associated ansatz state. We then optimize this objective function using `scipy.optimize.minimize`, with an initial guess obtained from the operator we initialized previously from t2 amplitudes."
   ]
  },
  {
   "cell_type": "code",
   "execution_count": 3,
   "metadata": {
    "execution": {
     "iopub.execute_input": "2025-10-31T10:44:25.295346Z",
     "iopub.status.busy": "2025-10-31T10:44:25.294915Z",
     "iopub.status.idle": "2025-10-31T10:44:54.422808Z",
     "shell.execute_reply": "2025-10-31T10:44:54.422252Z"
    }
   },
   "outputs": [
    {
     "name": "stdout",
     "output_type": "stream",
     "text": [
      "Number of parameters: 88\n",
      "  message: CONVERGENCE: RELATIVE REDUCTION OF F <= FACTR*EPSMCH\n",
      "  success: True\n",
      "   status: 0\n",
      "      fun: -77.8738700507991\n",
      "        x: [-1.152e+00  4.814e-05 ... -1.636e-05 -8.421e-05]\n",
      "      nit: 5\n",
      "      jac: [-1.279e-05  1.421e-06 ... -1.705e-05 -2.842e-06]\n",
      "     nfev: 623\n",
      "     njev: 7\n",
      " hess_inv: <88x88 LbfgsInvHessProduct with dtype=float64>\n"
     ]
    }
   ],
   "source": [
    "import scipy.optimize\n",
    "\n",
    "\n",
    "def fun(x):\n",
    "    # Initialize the ansatz operator from the parameter vector\n",
    "    operator = ffsim.UCJOpSpinBalanced.from_parameters(\n",
    "        x, norb=norb, n_reps=n_reps, with_final_orbital_rotation=True\n",
    "    )\n",
    "    # Apply the ansatz operator to the reference state\n",
    "    final_state = ffsim.apply_unitary(reference_state, operator, norb=norb, nelec=nelec)\n",
    "    # Return the energy ⟨ψ|H|ψ⟩ of the ansatz state\n",
    "    return np.real(np.vdot(final_state, hamiltonian @ final_state))\n",
    "\n",
    "\n",
    "result = scipy.optimize.minimize(\n",
    "    fun, x0=operator.to_parameters(), method=\"L-BFGS-B\", options=dict(maxiter=10)\n",
    ")\n",
    "\n",
    "print(f\"Number of parameters: {len(result.x)}\")\n",
    "print(result)"
   ]
  },
  {
   "cell_type": "markdown",
   "metadata": {},
   "source": [
    "## LUCJ ansatz\n",
    "\n",
    "Now, let's add locality constraints to simulate the LUCJ ansatz. We'll restrict same-spin interactions to a line topology, and opposite-spin interactions to those within the same spatial orbital. As explained in [The local unitary cluster Jastrow (LUCJ) ansatz](../explanations/lucj.ipynb#The-local-UCJ-(LUCJ)-ansatz), these constraints allow the ansatz to be simulated directly on a square lattice.\n",
    "\n",
    "In the following code cell, we demonstrate the optimization of the ansatz with these constraints imposed. Notice that with the same number of ansatz repetitions, the number of parameters of the ansatz has decreased from 88 to 62."
   ]
  },
  {
   "cell_type": "code",
   "execution_count": 4,
   "metadata": {
    "execution": {
     "iopub.execute_input": "2025-10-31T10:44:54.426189Z",
     "iopub.status.busy": "2025-10-31T10:44:54.425399Z",
     "iopub.status.idle": "2025-10-31T10:45:20.531779Z",
     "shell.execute_reply": "2025-10-31T10:45:20.527819Z"
    }
   },
   "outputs": [
    {
     "name": "stdout",
     "output_type": "stream",
     "text": [
      "Number of parameters: 62\n",
      "  message: CONVERGENCE: RELATIVE REDUCTION OF F <= FACTR*EPSMCH\n",
      "  success: True\n",
      "   status: 0\n",
      "      fun: -77.87363425527177\n",
      "        x: [-1.152e+00  5.086e-06 ... -1.582e-05 -2.249e-05]\n",
      "      nit: 6\n",
      "      jac: [ 1.421e-06  2.842e-05 ...  1.990e-05  3.126e-05]\n",
      "     nfev: 504\n",
      "     njev: 8\n",
      " hess_inv: <62x62 LbfgsInvHessProduct with dtype=float64>\n"
     ]
    }
   ],
   "source": [
    "pairs_aa = [(p, p + 1) for p in range(norb - 1)]\n",
    "pairs_ab = [(p, p) for p in range(norb)]\n",
    "interaction_pairs = (pairs_aa, pairs_ab)\n",
    "\n",
    "\n",
    "def fun(x):\n",
    "    operator = ffsim.UCJOpSpinBalanced.from_parameters(\n",
    "        x,\n",
    "        norb=norb,\n",
    "        n_reps=n_reps,\n",
    "        interaction_pairs=interaction_pairs,\n",
    "        with_final_orbital_rotation=True,\n",
    "    )\n",
    "    final_state = ffsim.apply_unitary(reference_state, operator, norb=norb, nelec=nelec)\n",
    "    return np.real(np.vdot(final_state, hamiltonian @ final_state))\n",
    "\n",
    "\n",
    "result = scipy.optimize.minimize(\n",
    "    fun,\n",
    "    x0=operator.to_parameters(interaction_pairs=interaction_pairs),\n",
    "    method=\"L-BFGS-B\",\n",
    "    options=dict(maxiter=10),\n",
    ")\n",
    "print(f\"Number of parameters: {len(result.x)}\")\n",
    "print(result)"
   ]
  },
  {
   "cell_type": "markdown",
   "metadata": {},
   "source": [
    "## Optimize with the linear method\n",
    "\n",
    "ffsim includes an implementation of the [\"linear method\"](https://arxiv.org/abs/1412.0490v2) for optimization of a variational wavefunction. The linear method often converges faster than a standard optimization algorithm like L-BFGS-B. The interface is similar to that of `scipy.optimize.minimize`, the main difference being that instead of passing a callable that directly returns the function value to be optimized, you pass two objects: a callable that returns the wavefunction, and the Hamiltonian representing the energy to be optimized as a `LinearOperator`. The code cell below shows how to use the linear method to optimize the LUCJ ansatz from the previous example. It also shows how you can use an optional callback function to save intermediate results of the optimization."
   ]
  },
  {
   "cell_type": "code",
   "execution_count": 5,
   "metadata": {
    "execution": {
     "iopub.execute_input": "2025-10-31T10:45:20.535738Z",
     "iopub.status.busy": "2025-10-31T10:45:20.534132Z",
     "iopub.status.idle": "2025-10-31T10:45:46.459579Z",
     "shell.execute_reply": "2025-10-31T10:45:46.457065Z"
    }
   },
   "outputs": [
    {
     "name": "stdout",
     "output_type": "stream",
     "text": [
      "Number of parameters: 62\n",
      " message: Stop: Total number of iterations reached limit.\n",
      " success: False\n",
      "     fun: -77.87416312545365\n",
      "       x: [-1.174e+00  5.265e-02 ... -7.989e-03 -5.504e-03]\n",
      "     nit: 10\n",
      "     jac: [ 5.387e-06 -1.754e-04 ...  8.173e-04  2.662e-04]\n",
      "    nfev: 1725\n",
      "    njev: 10\n",
      "  nlinop: 1105\n",
      "\n",
      "Iteration 1\n",
      "    Energy: -77.87362877539037\n",
      "    Norm of gradient: 0.001853706205913193\n",
      "    Regularization hyperparameter: 0.002291959666983867\n",
      "    Variation hyperparameter: 0.9917028571200432\n",
      "Iteration 2\n",
      "    Energy: -77.87363434245081\n",
      "    Norm of gradient: 8.981870440682647e-05\n",
      "    Regularization hyperparameter: 0.0025392514831779666\n",
      "    Variation hyperparameter: 0.9916857868263245\n",
      "Iteration 3\n",
      "    Energy: -77.87366108479002\n",
      "    Norm of gradient: 0.002348336659485467\n",
      "    Regularization hyperparameter: 7.565058744226105e-05\n",
      "    Variation hyperparameter: 0.9900018288986614\n",
      "Iteration 4\n",
      "    Energy: -77.87366306790172\n",
      "    Norm of gradient: 0.0019431301396543301\n",
      "    Regularization hyperparameter: 1.0173612991571097\n",
      "    Variation hyperparameter: 0.9899966347566628\n",
      "Iteration 5\n",
      "    Energy: -77.87366465722236\n",
      "    Norm of gradient: 0.0017692243775828905\n",
      "    Regularization hyperparameter: 1.0173614748540685\n",
      "    Variation hyperparameter: 0.9899966368267453\n",
      "Iteration 6\n",
      "    Energy: -77.87366603652113\n",
      "    Norm of gradient: 0.0016578309399678996\n",
      "    Regularization hyperparameter: 1.0173615836185395\n",
      "    Variation hyperparameter: 0.9899966374793487\n",
      "Iteration 7\n",
      "    Energy: -77.87366727627688\n",
      "    Norm of gradient: 0.0015773869750775014\n",
      "    Regularization hyperparameter: 1.0173619468456323\n",
      "    Variation hyperparameter: 0.9899966388379466\n",
      "Iteration 8\n",
      "    Energy: -77.8736684180775\n",
      "    Norm of gradient: 0.0015179858718558376\n",
      "    Regularization hyperparameter: 1.0173620315445595\n",
      "    Variation hyperparameter: 0.9899966390647494\n",
      "Iteration 9\n",
      "    Energy: -77.8739748669891\n",
      "    Norm of gradient: 0.011619099485367698\n",
      "    Regularization hyperparameter: 0.0009695621335108467\n",
      "    Variation hyperparameter: 0.6149917598804829\n"
     ]
    }
   ],
   "source": [
    "from collections import defaultdict\n",
    "\n",
    "from ffsim.optimize import minimize_linear_method\n",
    "\n",
    "\n",
    "# Define function that converts a list of parameters to the corresponding state vector\n",
    "def params_to_vec(x: np.ndarray) -> np.ndarray:\n",
    "    operator = ffsim.UCJOpSpinBalanced.from_parameters(\n",
    "        x,\n",
    "        norb=norb,\n",
    "        n_reps=n_reps,\n",
    "        interaction_pairs=interaction_pairs,\n",
    "        with_final_orbital_rotation=True,\n",
    "    )\n",
    "    return ffsim.apply_unitary(reference_state, operator, norb=norb, nelec=nelec)\n",
    "\n",
    "\n",
    "# Define a callback function used to save optimization information (this is optional)\n",
    "info = defaultdict(list)\n",
    "\n",
    "\n",
    "def callback(intermediate_result: scipy.optimize.OptimizeResult):\n",
    "    # The callback function is called after each iteration. It accepts\n",
    "    # an OptimizeResult object storing the parameters and function value at\n",
    "    # the current iteration, and possibly other information\n",
    "    info[\"x\"].append(intermediate_result.x)\n",
    "    info[\"fun\"].append(intermediate_result.fun)\n",
    "    if hasattr(intermediate_result, \"jac\"):\n",
    "        info[\"jac\"].append(intermediate_result.jac)\n",
    "    if hasattr(intermediate_result, \"regularization\"):\n",
    "        info[\"regularization\"].append(intermediate_result.regularization)\n",
    "    if hasattr(intermediate_result, \"variation\"):\n",
    "        info[\"variation\"].append(intermediate_result.variation)\n",
    "\n",
    "\n",
    "# Optimize with the linear method\n",
    "result = minimize_linear_method(\n",
    "    params_to_vec,\n",
    "    hamiltonian,\n",
    "    x0=operator.to_parameters(interaction_pairs=interaction_pairs),\n",
    "    maxiter=10,\n",
    "    callback=callback,\n",
    ")\n",
    "\n",
    "# Print some information\n",
    "print(f\"Number of parameters: {len(result.x)}\")\n",
    "print(result)\n",
    "print()\n",
    "for i, (fun, jac, regularization, variation) in enumerate(\n",
    "    zip(info[\"fun\"], info[\"jac\"], info[\"regularization\"], info[\"variation\"])\n",
    "):\n",
    "    print(f\"Iteration {i + 1}\")\n",
    "    print(f\"    Energy: {fun}\")\n",
    "    print(f\"    Norm of gradient: {np.linalg.norm(jac)}\")\n",
    "    print(f\"    Regularization hyperparameter: {np.linalg.norm(regularization)}\")\n",
    "    print(f\"    Variation hyperparameter: {np.linalg.norm(variation)}\")"
   ]
  }
 ],
 "metadata": {
  "kernelspec": {
   "display_name": ".venv",
   "language": "python",
   "name": "python3"
  },
  "language_info": {
   "codemirror_mode": {
    "name": "ipython",
    "version": 3
   },
   "file_extension": ".py",
   "mimetype": "text/x-python",
   "name": "python",
   "nbconvert_exporter": "python",
   "pygments_lexer": "ipython3",
   "version": "3.13.9"
  }
 },
 "nbformat": 4,
 "nbformat_minor": 4
}
