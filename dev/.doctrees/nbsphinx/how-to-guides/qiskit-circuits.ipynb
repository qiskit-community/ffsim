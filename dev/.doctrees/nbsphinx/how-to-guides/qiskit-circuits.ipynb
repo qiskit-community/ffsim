{
 "cells": [
  {
   "cell_type": "markdown",
   "metadata": {},
   "source": [
    "# How to build and transpile Qiskit quantum circuits\n",
    "\n",
    "In this guide, we show how to use the [ffsim.qiskit](../api/ffsim.qiskit.rst) module to build and transpile fermionic quantum circuits.\n",
    "\n",
    "The following code cell imports modules and sets values that will be used in later code cells. Note that the number of qubits is twice the number of spatial orbitals."
   ]
  },
  {
   "cell_type": "code",
   "execution_count": 1,
   "metadata": {
    "execution": {
     "iopub.execute_input": "2025-03-01T03:01:42.003611Z",
     "iopub.status.busy": "2025-03-01T03:01:42.003421Z",
     "iopub.status.idle": "2025-03-01T03:01:42.704305Z",
     "shell.execute_reply": "2025-03-01T03:01:42.703661Z"
    }
   },
   "outputs": [],
   "source": [
    "import numpy as np\n",
    "from qiskit.circuit import QuantumCircuit, QuantumRegister\n",
    "\n",
    "import ffsim\n",
    "\n",
    "# Let's use 4 spatial orbitals with 2 alpha electrons and 2 beta electrons.\n",
    "norb = 4\n",
    "nelec = (2, 2)\n",
    "\n",
    "# Initialize qubits\n",
    "qubits = QuantumRegister(2 * norb, name=\"q\")\n",
    "\n",
    "# Initialize random number generator\n",
    "rng = np.random.default_rng(1234)"
   ]
  },
  {
   "cell_type": "markdown",
   "metadata": {},
   "source": [
    "## Circuit transpilation\n",
    "\n",
    "In this section, we show how to use transpiler passes included in ffsim to optimize quantum circuits built from fermionic gates. As a representative example circuit, we construct a circuit that prepares the Hartree-Fock state and then applies a [unitary cluster Jastrow (UCJ)](../explanations/lucj.ipynb) ansatz operator to it."
   ]
  },
  {
   "cell_type": "code",
   "execution_count": 2,
   "metadata": {
    "execution": {
     "iopub.execute_input": "2025-03-01T03:01:42.706738Z",
     "iopub.status.busy": "2025-03-01T03:01:42.706169Z",
     "iopub.status.idle": "2025-03-01T03:01:43.151852Z",
     "shell.execute_reply": "2025-03-01T03:01:43.151353Z"
    }
   },
   "outputs": [
    {
     "data": {
      "image/png": "[encoded data removed]",
      "text/plain": [
       "<Figure size 435.359x491.633 with 1 Axes>"
      ]
     },
     "execution_count": 2,
     "metadata": {},
     "output_type": "execute_result"
    }
   ],
   "source": [
    "# Construct a random UCJ operator\n",
    "ucj_op = ffsim.random.random_ucj_op_spin_balanced(norb=norb, n_reps=2, seed=rng)\n",
    "\n",
    "# Construct circuit\n",
    "circuit = QuantumCircuit(qubits)\n",
    "circuit.append(ffsim.qiskit.PrepareHartreeFockJW(norb, nelec), qubits)\n",
    "circuit.append(ffsim.qiskit.UCJOpSpinBalancedJW(ucj_op), qubits)\n",
    "\n",
    "circuit.draw(\"mpl\", scale=0.7)"
   ]
  },
  {
   "cell_type": "markdown",
   "metadata": {},
   "source": [
    "We recommend taking the following steps to transpile your quantum circuit:\n",
    "\n",
    "- Generate a staged pass manager using the [generate_preset_pass_manager](https://docs.quantum.ibm.com/api/qiskit/transpiler_preset#generate_preset_pass_manager) function.\n",
    "- Set the `pre_init` stage of your staged pass manager to `ffsim.qiskit.PRE_INIT`.\n",
    "- Run the transpiler pass on your circuit.\n",
    "\n",
    "The [ffsim.qiskit.PRE_INIT](../api/ffsim.qiskit.rst#ffsim.qiskit.PRE_INIT) constant stores a pass manager with the transpiler passes generated by the [pre_init_passes](../api/ffsim.qiskit.rst#ffsim.qiskit.pre_init_passes) function. These passes decompose gates into orbital rotations and then merges the orbital rotations, resulting in fewer [XXPlusYYGates](https://docs.quantum.ibm.com/api/qiskit/qiskit.circuit.library.XXPlusYYGate#xxplusyygate) in the final transpiled circuit. See [Qubit gate decompositions of fermionic gates](../explanations/qiskit-gate-decompositions.ipynb#Unitary-cluster-Jastrow-(UCJ)-operator) for a more detailed explanation of how this works."
   ]
  },
  {
   "cell_type": "code",
   "execution_count": 3,
   "metadata": {
    "execution": {
     "iopub.execute_input": "2025-03-01T03:01:43.153973Z",
     "iopub.status.busy": "2025-03-01T03:01:43.153455Z",
     "iopub.status.idle": "2025-03-01T03:01:43.204012Z",
     "shell.execute_reply": "2025-03-01T03:01:43.203509Z"
    }
   },
   "outputs": [
    {
     "data": {
      "text/plain": [
       "OrderedDict([('cp', 56), ('xx_plus_yy', 32), ('p', 24), ('x', 4)])"
      ]
     },
     "execution_count": 3,
     "metadata": {},
     "output_type": "execute_result"
    }
   ],
   "source": [
    "from qiskit.providers.fake_provider import GenericBackendV2\n",
    "from qiskit.transpiler.preset_passmanagers import generate_preset_pass_manager\n",
    "\n",
    "# Initialize quantum device backend\n",
    "backend = GenericBackendV2(2 * norb, basis_gates=[\"cp\", \"xx_plus_yy\", \"p\", \"x\"])\n",
    "\n",
    "# Create a pass manager for circuit transpilation\n",
    "pass_manager = generate_preset_pass_manager(optimization_level=3, backend=backend)\n",
    "\n",
    "# Set the pre-initialization stage of the pass manager with passes suggested by ffsim\n",
    "pass_manager.pre_init = ffsim.qiskit.PRE_INIT\n",
    "\n",
    "# Transpile the circuit\n",
    "transpiled = pass_manager.run(circuit)\n",
    "\n",
    "transpiled.count_ops()"
   ]
  },
  {
   "cell_type": "markdown",
   "metadata": {},
   "source": [
    "## Overview of gates\n",
    "\n",
    "In this section, we give an overview of the quantum gates available in ffsim and provide usage examples.\n",
    "\n",
    "### State preparation gates\n",
    "\n",
    "The state preparation gates are meant to be applied to the zero state. Their behavior when applied to other states is not guaranteed.\n",
    "\n",
    "#### Prepare Hartree-Fock state"
   ]
  },
  {
   "cell_type": "code",
   "execution_count": 4,
   "metadata": {
    "execution": {
     "iopub.execute_input": "2025-03-01T03:01:43.205933Z",
     "iopub.status.busy": "2025-03-01T03:01:43.205551Z",
     "iopub.status.idle": "2025-03-01T03:01:43.209559Z",
     "shell.execute_reply": "2025-03-01T03:01:43.209017Z"
    }
   },
   "outputs": [
    {
     "data": {
      "text/plain": [
       "<qiskit.circuit.instructionset.InstructionSet at 0x7f9379a03e50>"
      ]
     },
     "execution_count": 4,
     "metadata": {},
     "output_type": "execute_result"
    }
   ],
   "source": [
    "circuit = QuantumCircuit(qubits)\n",
    "circuit.append(ffsim.qiskit.PrepareHartreeFockJW(norb, nelec), qubits)"
   ]
  },
  {
   "cell_type": "markdown",
   "metadata": {},
   "source": [
    "#### Prepare Slater determinant"
   ]
  },
  {
   "cell_type": "code",
   "execution_count": 5,
   "metadata": {
    "execution": {
     "iopub.execute_input": "2025-03-01T03:01:43.211522Z",
     "iopub.status.busy": "2025-03-01T03:01:43.211098Z",
     "iopub.status.idle": "2025-03-01T03:01:43.215946Z",
     "shell.execute_reply": "2025-03-01T03:01:43.215389Z"
    }
   },
   "outputs": [
    {
     "data": {
      "text/plain": [
       "<qiskit.circuit.instructionset.InstructionSet at 0x7f937990c0d0>"
      ]
     },
     "execution_count": 5,
     "metadata": {},
     "output_type": "execute_result"
    }
   ],
   "source": [
    "occupied_orbitals = ([0, 2], [0, 1])\n",
    "orbital_rotation = ffsim.random.random_unitary(norb, seed=rng)\n",
    "\n",
    "circuit = QuantumCircuit(qubits)\n",
    "circuit.append(\n",
    "    ffsim.qiskit.PrepareSlaterDeterminantJW(\n",
    "        norb, occupied_orbitals, orbital_rotation=orbital_rotation\n",
    "    ),\n",
    "    qubits,\n",
    ")"
   ]
  },
  {
   "cell_type": "markdown",
   "metadata": {},
   "source": [
    "### Unitary transformation gates\n",
    "\n",
    "These gates can be applied to any state.\n",
    "\n",
    "#### Orbital rotation"
   ]
  },
  {
   "cell_type": "code",
   "execution_count": 6,
   "metadata": {
    "execution": {
     "iopub.execute_input": "2025-03-01T03:01:43.217853Z",
     "iopub.status.busy": "2025-03-01T03:01:43.217507Z",
     "iopub.status.idle": "2025-03-01T03:01:43.221405Z",
     "shell.execute_reply": "2025-03-01T03:01:43.220970Z"
    }
   },
   "outputs": [
    {
     "data": {
      "text/plain": [
       "<qiskit.circuit.instructionset.InstructionSet at 0x7f9379554670>"
      ]
     },
     "execution_count": 6,
     "metadata": {},
     "output_type": "execute_result"
    }
   ],
   "source": [
    "orbital_rotation = ffsim.random.random_unitary(norb, seed=rng)\n",
    "\n",
    "circuit = QuantumCircuit(qubits)\n",
    "circuit.append(ffsim.qiskit.OrbitalRotationJW(norb, orbital_rotation), qubits)"
   ]
  },
  {
   "cell_type": "markdown",
   "metadata": {},
   "source": [
    "#### Number operator sum evolution"
   ]
  },
  {
   "cell_type": "code",
   "execution_count": 7,
   "metadata": {
    "execution": {
     "iopub.execute_input": "2025-03-01T03:01:43.223198Z",
     "iopub.status.busy": "2025-03-01T03:01:43.222830Z",
     "iopub.status.idle": "2025-03-01T03:01:43.226985Z",
     "shell.execute_reply": "2025-03-01T03:01:43.226420Z"
    }
   },
   "outputs": [
    {
     "data": {
      "text/plain": [
       "<qiskit.circuit.instructionset.InstructionSet at 0x7f9379abe920>"
      ]
     },
     "execution_count": 7,
     "metadata": {},
     "output_type": "execute_result"
    }
   ],
   "source": [
    "coeffs = rng.standard_normal(norb)\n",
    "circuit = QuantumCircuit(qubits)\n",
    "circuit.append(ffsim.qiskit.NumOpSumEvolutionJW(norb, coeffs, time=1.0), qubits)"
   ]
  },
  {
   "cell_type": "markdown",
   "metadata": {},
   "source": [
    "#### Diagonal Coulomb evolution"
   ]
  },
  {
   "cell_type": "code",
   "execution_count": 8,
   "metadata": {
    "execution": {
     "iopub.execute_input": "2025-03-01T03:01:43.228740Z",
     "iopub.status.busy": "2025-03-01T03:01:43.228462Z",
     "iopub.status.idle": "2025-03-01T03:01:43.232697Z",
     "shell.execute_reply": "2025-03-01T03:01:43.232156Z"
    }
   },
   "outputs": [
    {
     "data": {
      "text/plain": [
       "<qiskit.circuit.instructionset.InstructionSet at 0x7f93799a7ac0>"
      ]
     },
     "execution_count": 8,
     "metadata": {},
     "output_type": "execute_result"
    }
   ],
   "source": [
    "diag_coulomb_mat = ffsim.random.random_real_symmetric_matrix(norb, seed=rng)\n",
    "\n",
    "circuit = QuantumCircuit(qubits)\n",
    "circuit.append(\n",
    "    ffsim.qiskit.DiagCoulombEvolutionJW(norb, diag_coulomb_mat, time=1.0), qubits\n",
    ")"
   ]
  },
  {
   "cell_type": "markdown",
   "metadata": {},
   "source": [
    "#### Spin-balanced unitary cluster Jastrow (UCJ) operator"
   ]
  },
  {
   "cell_type": "code",
   "execution_count": 9,
   "metadata": {
    "execution": {
     "iopub.execute_input": "2025-03-01T03:01:43.234569Z",
     "iopub.status.busy": "2025-03-01T03:01:43.234251Z",
     "iopub.status.idle": "2025-03-01T03:01:43.239008Z",
     "shell.execute_reply": "2025-03-01T03:01:43.238459Z"
    }
   },
   "outputs": [
    {
     "data": {
      "text/plain": [
       "<qiskit.circuit.instructionset.InstructionSet at 0x7f9379abf430>"
      ]
     },
     "execution_count": 9,
     "metadata": {},
     "output_type": "execute_result"
    }
   ],
   "source": [
    "ucj_op = ffsim.random.random_ucj_op_spin_balanced(norb=norb, n_reps=2)\n",
    "\n",
    "circuit = QuantumCircuit(qubits)\n",
    "circuit.append(ffsim.qiskit.UCJOpSpinBalancedJW(ucj_op), qubits)"
   ]
  },
  {
   "cell_type": "markdown",
   "metadata": {},
   "source": [
    "#### Spin-unbalanced unitary cluster Jastrow (UCJ) operator"
   ]
  },
  {
   "cell_type": "code",
   "execution_count": 10,
   "metadata": {
    "execution": {
     "iopub.execute_input": "2025-03-01T03:01:43.240855Z",
     "iopub.status.busy": "2025-03-01T03:01:43.240506Z",
     "iopub.status.idle": "2025-03-01T03:01:43.245446Z",
     "shell.execute_reply": "2025-03-01T03:01:43.244907Z"
    }
   },
   "outputs": [
    {
     "data": {
      "text/plain": [
       "<qiskit.circuit.instructionset.InstructionSet at 0x7f937990e2c0>"
      ]
     },
     "execution_count": 10,
     "metadata": {},
     "output_type": "execute_result"
    }
   ],
   "source": [
    "ucj_op = ffsim.random.random_ucj_op_spin_unbalanced(norb=norb, n_reps=2)\n",
    "\n",
    "circuit = QuantumCircuit(qubits)\n",
    "circuit.append(ffsim.qiskit.UCJOpSpinUnbalancedJW(ucj_op), qubits)"
   ]
  },
  {
   "cell_type": "markdown",
   "metadata": {},
   "source": [
    "#### Trotter simulation of double-factorized Hamiltonian"
   ]
  },
  {
   "cell_type": "code",
   "execution_count": 11,
   "metadata": {
    "execution": {
     "iopub.execute_input": "2025-03-01T03:01:43.247400Z",
     "iopub.status.busy": "2025-03-01T03:01:43.246934Z",
     "iopub.status.idle": "2025-03-01T03:01:43.252488Z",
     "shell.execute_reply": "2025-03-01T03:01:43.251976Z"
    }
   },
   "outputs": [
    {
     "data": {
      "text/plain": [
       "<qiskit.circuit.instructionset.InstructionSet at 0x7f93a0b17160>"
      ]
     },
     "execution_count": 11,
     "metadata": {},
     "output_type": "execute_result"
    }
   ],
   "source": [
    "df_hamiltonian = ffsim.random.random_double_factorized_hamiltonian(norb, seed=rng)\n",
    "circuit = QuantumCircuit(qubits)\n",
    "circuit.append(\n",
    "    ffsim.qiskit.SimulateTrotterDoubleFactorizedJW(\n",
    "        df_hamiltonian, time=1.0, n_steps=1, order=0\n",
    "    ),\n",
    "    qubits,\n",
    ")"
   ]
  }
 ],
 "metadata": {
  "kernelspec": {
   "display_name": "Python 3 (ipykernel)",
   "language": "python",
   "name": "python3"
  },
  "language_info": {
   "codemirror_mode": {
    "name": "ipython",
    "version": 3
   },
   "file_extension": ".py",
   "mimetype": "text/x-python",
   "name": "python",
   "nbconvert_exporter": "python",
   "pygments_lexer": "ipython3",
   "version": "3.13.2"
  }
 },
 "nbformat": 4,
 "nbformat_minor": 4
}
